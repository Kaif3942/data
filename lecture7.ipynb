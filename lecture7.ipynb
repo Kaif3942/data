{
 "cells": [
  {
   "cell_type": "code",
   "execution_count": 2,
   "id": "321fb23a-73e0-4400-a4d5-714de85073c2",
   "metadata": {},
   "outputs": [
    {
     "data": {
      "text/plain": [
       "47"
      ]
     },
     "execution_count": 2,
     "metadata": {},
     "output_type": "execute_result"
    }
   ],
   "source": [
    "\n",
    "\n",
    "class Addition():\n",
    "    def __init__(self,a,b,c=0):\n",
    "        self.a=a\n",
    "        self.b=b\n",
    "        self.c=c\n",
    "    def add(self):\n",
    "        return self.a + self.b + self.c\n",
    "class Subtraction():\n",
    "    def __init__(self,a,b):\n",
    "        self.a=a\n",
    "        self.b=b\n",
    "    def sub(self):\n",
    "        return self.a - self.b\n",
    "class Multiply():\n",
    "    def __init__(self,a,b,c=1):\n",
    "        self.a=a\n",
    "        self.b=b\n",
    "        self.c=c\n",
    "    def mul(self):\n",
    "        return self.a * self.b * self.c\n",
    "class Divide():\n",
    "    def __init__(self,a,b):\n",
    "        self.a=a\n",
    "        self.b=b\n",
    "    def div(self):\n",
    "        return self.a / self.b\n",
    "class Math(Addition, Subtraction,Multiply,Divide):\n",
    "    def __init__(self,a,b,c):\n",
    "        if(c!=0):\n",
    "            Addition.__init__(self,a,b,c)\n",
    "        else:\n",
    "            Addition.__init__(self,a,b)\n",
    "        \n",
    "        Subtraction.__init__(self,a,b)\n",
    "        \n",
    "        Multiply.__init__(self,a,b,c)\n",
    "        Divide.__init__(self,a,b)\n",
    "  \n",
    "    \n",
    "m= Math(12,15,20)\n",
    "m.add()\n"
   ]
  },
  {
   "cell_type": "code",
   "execution_count": 18,
   "id": "84f1f496-55f7-4cf3-9322-d5373fb24fec",
   "metadata": {},
   "outputs": [
    {
     "name": "stdout",
     "output_type": "stream",
     "text": [
      "multiplying 3 number 300\n"
     ]
    },
    {
     "data": {
      "text/plain": [
       "5"
      ]
     },
     "execution_count": 18,
     "metadata": {},
     "output_type": "execute_result"
    }
   ],
   "source": [
    "class Multiply():\n",
    "    def __init__(self,a,b,c=1):\n",
    "        self.a=a\n",
    "        self.b=b\n",
    "        self.c=c\n",
    "    def mul(self):\n",
    "        return self.a * self.b * self.c\n",
    "class Math(Multiply):\n",
    "    def __init__(self,a,b,c=1):\n",
    "        Multiply.__init__(self,a,b,c)\n",
    "    def mul(self):\n",
    "        print(\"multiplying 3 number\", self.a* self.b* self.c)\n",
    "multi = Multiply(4,2)\n",
    "multi.mul()\n",
    "multi2 = Multiply(4,2,6)\n",
    "multi2.mul()\n",
    "m = Math(5,3,20)\n",
    "m.mul()\n"
   ]
  },
  {
   "cell_type": "code",
   "execution_count": 3,
   "id": "0326d18f-698a-4ab8-bba3-2f99f2050807",
   "metadata": {},
   "outputs": [
    {
     "name": "stdout",
     "output_type": "stream",
     "text": [
      "SBI\n"
     ]
    }
   ],
   "source": [
    "class Person():\n",
    "    def __init__(self,account_no,ifsc):\n",
    "        self.__account_no = account_no\n",
    "        self._ifsc= ifsc\n",
    "    def getAccount(self):\n",
    "        return self.__account_no\n",
    "    def setAccount(self,account_no):\n",
    "        self.__account_no = account_no\n",
    "class Bank(Person):\n",
    "    def __init__(self,account_no,ifsc):\n",
    "        Person.__init__(self,account_no,ifsc)\n",
    "    def getPersonAccount(self):\n",
    "        return self.__account_no\n",
    "    def printIfsc(self):\n",
    "        print(self._ifsc)\n",
    "p1 = Person(1234,\"SBI\")\n",
    "p1.setAccount(12345)\n",
    "# # p1.getAccount()\n",
    "b1= Bank(1234,\"SBI\")\n",
    "b1.printIfsc()\n",
    "# b1.getPersonAccount()"
   ]
  },
  {
   "cell_type": "markdown",
   "id": "adc9c732-35e8-4f40-a75e-5bcbe80d6b51",
   "metadata": {},
   "source": [
    "## Abstract Class\n",
    "\n"
   ]
  },
  {
   "cell_type": "code",
   "execution_count": 32,
   "id": "d553ed81-4afc-4a96-ae7f-40e5d63a023b",
   "metadata": {},
   "outputs": [
    {
     "name": "stdout",
     "output_type": "stream",
     "text": [
      "multipication of a and b is  10\n"
     ]
    }
   ],
   "source": [
    "from abc import ABC, abstractmethod\n",
    "class Multiply(ABC):\n",
    "    @abstractmethod\n",
    "    def mul(self):\n",
    "        pass\n",
    "class Math(Multiply):\n",
    "    def __init__(self,a,b):\n",
    "        self.a= a\n",
    "        self.b =b\n",
    "    def mul(self):\n",
    "        print(\"multipication of a and b is \", self.a * self.b)\n",
    "m = Math(2,5)\n",
    "m.mul()\n"
   ]
  },
  {
   "cell_type": "markdown",
   "id": "7c9bbef9-3d01-4316-b74c-76f804e2a142",
   "metadata": {},
   "source": [
    "## Excercise"
   ]
  },
  {
   "cell_type": "code",
   "execution_count": 36,
   "id": "d2256e78-ecd2-43b5-b810-b0d698df2006",
   "metadata": {},
   "outputs": [
    {
     "name": "stdout",
     "output_type": "stream",
     "text": [
      "diesel\n",
      "4\n",
      "petrol\n",
      "2\n"
     ]
    }
   ],
   "source": [
    "##vehicle class\n",
    "from abc import ABC, abstractmethod\n",
    "class Vehicle(ABC):\n",
    "    @abstractmethod\n",
    "    def fuel(self):\n",
    "        pass\n",
    "    @abstractmethod\n",
    "    def wheel(self):\n",
    "        pass\n",
    "\n",
    "class Bus(Vehicle):\n",
    "    def fuel(self):\n",
    "        print(\"diesel\")\n",
    "    def wheel(self):\n",
    "        print(4)\n",
    "\n",
    "class Bike(Vehicle):\n",
    "    def fuel(self):\n",
    "        print(\"petrol\")\n",
    "    def wheel(self):\n",
    "        print(2)\n",
    "bus = Bus()\n",
    "bus.fuel()\n",
    "bus.wheel()\n",
    "\n",
    "bike = Bike()\n",
    "bike.fuel()\n",
    "bike.wheel()"
   ]
  },
  {
   "cell_type": "markdown",
   "id": "cba2d13d-bf3e-44e0-bce8-fcc3f713a14e",
   "metadata": {},
   "source": [
    "Write a Python program to create a class representing a bank. Include methods for managing customer accounts and transactions."
   ]
  },
  {
   "cell_type": "code",
   "execution_count": null,
   "id": "172f4479-cbf0-4ac7-9da5-2add7ee93b46",
   "metadata": {},
   "outputs": [],
   "source": []
  }
 ],
 "metadata": {
  "kernelspec": {
   "display_name": "Python 3 (ipykernel)",
   "language": "python",
   "name": "python3"
  },
  "language_info": {
   "codemirror_mode": {
    "name": "ipython",
    "version": 3
   },
   "file_extension": ".py",
   "mimetype": "text/x-python",
   "name": "python",
   "nbconvert_exporter": "python",
   "pygments_lexer": "ipython3",
   "version": "3.11.5"
  }
 },
 "nbformat": 4,
 "nbformat_minor": 5
}
