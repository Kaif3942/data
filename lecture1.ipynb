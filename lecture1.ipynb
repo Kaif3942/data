{
 "cells": [
  {
   "cell_type": "code",
   "execution_count": 3,
   "id": "ccaada9d-6746-491d-b934-3856ddf01858",
   "metadata": {},
   "outputs": [
    {
     "name": "stdout",
     "output_type": "stream",
     "text": [
      "5\n"
     ]
    },
    {
     "ename": "ZeroDivisionError",
     "evalue": "division by zero",
     "output_type": "error",
     "traceback": [
      "\u001b[1;31m---------------------------------------------------------------------------\u001b[0m",
      "\u001b[1;31mZeroDivisionError\u001b[0m                         Traceback (most recent call last)",
      "Cell \u001b[1;32mIn[3], line 2\u001b[0m\n\u001b[0;32m      1\u001b[0m \u001b[38;5;28mprint\u001b[39m(\u001b[38;5;241m2\u001b[39m\u001b[38;5;241m+\u001b[39m\u001b[38;5;241m3\u001b[39m)\n\u001b[1;32m----> 2\u001b[0m \u001b[38;5;28mprint\u001b[39m(\u001b[38;5;241;43m2\u001b[39;49m\u001b[38;5;241;43m/\u001b[39;49m\u001b[38;5;241;43m0\u001b[39;49m)\n",
      "\u001b[1;31mZeroDivisionError\u001b[0m: division by zero"
     ]
    }
   ],
   "source": [
    "print(2+3)\n",
    "print(2/0)\n"
   ]
  },
  {
   "cell_type": "code",
   "execution_count": 6,
   "id": "98eaefe7-f907-4a61-a18a-29a74858a2e2",
   "metadata": {},
   "outputs": [
    {
     "name": "stdout",
     "output_type": "stream",
     "text": [
      "hello world\n",
      "dlrow olleh\n"
     ]
    }
   ],
   "source": [
    "s= \"hello world\"\n",
    "print(s)\n",
    "print(s[-1::-1])"
   ]
  },
  {
   "cell_type": "code",
   "execution_count": 9,
   "id": "c13a154a-12da-4492-bc2c-1d5be19020b9",
   "metadata": {},
   "outputs": [
    {
     "name": "stdout",
     "output_type": "stream",
     "text": [
      "1.6666666666666667\n"
     ]
    }
   ],
   "source": [
    "print(5/3)"
   ]
  },
  {
   "cell_type": "code",
   "execution_count": 10,
   "id": "8044402e-00ff-4671-93e1-a6d29ab0a7c0",
   "metadata": {},
   "outputs": [
    {
     "name": "stdout",
     "output_type": "stream",
     "text": [
      "-47\n"
     ]
    }
   ],
   "source": [
    "s= 2+5*6//7*8-9**2\n",
    "print(s)"
   ]
  },
  {
   "cell_type": "code",
   "execution_count": 13,
   "id": "4206c712-c496-4fab-8e1a-10ddd3063a6a",
   "metadata": {},
   "outputs": [
    {
     "name": "stdin",
     "output_type": "stream",
     "text": [
      "Enter marks 60\n"
     ]
    },
    {
     "name": "stdout",
     "output_type": "stream",
     "text": [
      "C\n"
     ]
    }
   ],
   "source": [
    "marks = int(input(\"Enter marks\"))\n",
    "if( marks >=90):\n",
    "    print(\"A+\")\n",
    "elif( marks >=85):\n",
    "    print(\"A\")\n",
    "elif( marks >= 75):\n",
    "    print(\"B\")\n",
    "else:\n",
    "    print(\"C\")"
   ]
  },
  {
   "cell_type": "code",
   "execution_count": 15,
   "id": "ab239c43-a0b9-4495-8695-13fad9e821d3",
   "metadata": {},
   "outputs": [
    {
     "name": "stdin",
     "output_type": "stream",
     "text": [
      " C\n"
     ]
    },
    {
     "name": "stdout",
     "output_type": "stream",
     "text": [
      "Need to improve\n"
     ]
    }
   ],
   "source": [
    "grade = input()\n",
    "match(grade):\n",
    "    case \"A+\":\n",
    "        print(\"Excellent\")\n",
    "    case \"A\":\n",
    "        print(\"Good\")\n",
    "    case _:\n",
    "        print(\"Need to improve\")"
   ]
  },
  {
   "cell_type": "code",
   "execution_count": 18,
   "id": "63eda4e8-e1af-4532-b8d5-4ecabb5142b7",
   "metadata": {},
   "outputs": [
    {
     "name": "stdout",
     "output_type": "stream",
     "text": [
      "2\n",
      "4\n",
      "6\n",
      "8\n"
     ]
    }
   ],
   "source": [
    "count =2\n",
    "while(count <=20):\n",
    "    print(count)\n",
    "    count+=2\n",
    "    if(count==10):\n",
    "        break"
   ]
  },
  {
   "cell_type": "code",
   "execution_count": 19,
   "id": "c4c1ac19-489a-4871-b282-b93a575cf5b3",
   "metadata": {},
   "outputs": [
    {
     "name": "stdin",
     "output_type": "stream",
     "text": [
      " 2387456\n"
     ]
    },
    {
     "name": "stdout",
     "output_type": "stream",
     "text": [
      "7\n"
     ]
    }
   ],
   "source": [
    "num = int(input())\n",
    "count =0\n",
    "while(num>0):\n",
    "    count+=1\n",
    "    num//=10\n",
    "print(count)"
   ]
  },
  {
   "cell_type": "code",
   "execution_count": 20,
   "id": "92393630-b270-41a6-b10a-7b93a792564d",
   "metadata": {},
   "outputs": [
    {
     "name": "stdin",
     "output_type": "stream",
     "text": [
      " 2578\n"
     ]
    },
    {
     "name": "stdout",
     "output_type": "stream",
     "text": [
      "8752\n"
     ]
    }
   ],
   "source": [
    "num =int(input())\n",
    "rev =0\n",
    "while(num>0):\n",
    "    rem = num%10\n",
    "    rev = rev*10 + rem\n",
    "    num //=10\n",
    "print(rev)"
   ]
  },
  {
   "cell_type": "code",
   "execution_count": 22,
   "id": "c39dce3f-a051-4313-bd38-bea03a329b6b",
   "metadata": {},
   "outputs": [
    {
     "name": "stdout",
     "output_type": "stream",
     "text": [
      "2\n",
      "5\n",
      "8\n",
      "11\n",
      "14\n"
     ]
    }
   ],
   "source": [
    "for i in range(2,15,3):\n",
    "    print(i)"
   ]
  },
  {
   "cell_type": "code",
   "execution_count": 26,
   "id": "5bbd912d-f715-4e74-88e0-94aed51bef8c",
   "metadata": {},
   "outputs": [
    {
     "name": "stdout",
     "output_type": "stream",
     "text": [
      "(-20+21j)\n",
      "<class 'int'>\n",
      "<class 'float'>\n",
      "<class 'bool'>\n",
      "<class 'str'>\n",
      "<class 'complex'>\n"
     ]
    }
   ],
   "source": [
    "a= 5\n",
    "b= 12.5\n",
    "c= True\n",
    "d=\"abc\"\n",
    "e= 5+2j\n",
    "f = -2+ 5j\n",
    "print(e*f)\n",
    "print(type(a))\n",
    "print(type(b))\n",
    "print(type(c))\n",
    "print(type(d))\n",
    "print(type(e))"
   ]
  },
  {
   "cell_type": "code",
   "execution_count": 32,
   "id": "e808fc19-1c50-4bfb-a5a1-3b5000cef250",
   "metadata": {},
   "outputs": [
    {
     "name": "stdout",
     "output_type": "stream",
     "text": [
      "bok\n",
      "gnidoc\n"
     ]
    }
   ],
   "source": [
    "#comments\n",
    "s= \"coding blocks\"\n",
    "print(s[7:12:2])\n",
    "print(s[-8::-1])"
   ]
  },
  {
   "cell_type": "code",
   "execution_count": 37,
   "id": "06b1957a-a006-4b88-b607-09324e79ec2c",
   "metadata": {},
   "outputs": [
    {
     "name": "stdout",
     "output_type": "stream",
     "text": [
      "a\n",
      "ab\n",
      "abc\n",
      "abcd\n",
      "b\n",
      "bc\n",
      "bcd\n",
      "c\n",
      "cd\n",
      "d\n"
     ]
    }
   ],
   "source": [
    "s = \"abcd\"\n",
    "# for j in range(len(s)+1):\n",
    "#     for i in range(len(s)+1):\n",
    "        # print(s[j:i])\n",
    "st=0\n",
    "while(st<=len(s)):\n",
    "    end = st +1\n",
    "    while(end<= len(s)):\n",
    "        print(s[st:end])\n",
    "        end+=1\n",
    "    st+=1"
   ]
  },
  {
   "cell_type": "code",
   "execution_count": 41,
   "id": "bd06469d-447c-4dea-b5c8-4401fd06e106",
   "metadata": {},
   "outputs": [
    {
     "data": {
      "text/plain": [
       "'ABCBABBSUW2'"
      ]
     },
     "execution_count": 41,
     "metadata": {},
     "output_type": "execute_result"
    }
   ],
   "source": [
    "s= \"abcbabbsuw2\"\n",
    "# s.count(\"ab\")\n",
    "# s.upper()\n"
   ]
  },
  {
   "cell_type": "code",
   "execution_count": 45,
   "id": "949a7e85-d249-4b93-94e8-a9ea7ac15afe",
   "metadata": {},
   "outputs": [
    {
     "data": {
      "text/plain": [
       "True"
      ]
     },
     "execution_count": 45,
     "metadata": {},
     "output_type": "execute_result"
    }
   ],
   "source": [
    "email = \"abc@gmail.com\"\n",
    "# email.endswith(\"@gmail.com\")\n",
    "# email.startswith(\"abc\")"
   ]
  },
  {
   "cell_type": "code",
   "execution_count": 46,
   "id": "38878d61-8e41-406c-b2fe-8bcca79729d7",
   "metadata": {},
   "outputs": [
    {
     "name": "stdout",
     "output_type": "stream",
     "text": [
      "my name is : shivam \n"
     ]
    }
   ],
   "source": [
    "print(\"my {0} is : {1} \".format(\"name\", \"shivam\"))"
   ]
  },
  {
   "cell_type": "code",
   "execution_count": 47,
   "id": "e1c7bfe0-5b85-4550-b2d7-c45037a376a5",
   "metadata": {},
   "outputs": [
    {
     "data": {
      "text/plain": [
       "False"
      ]
     },
     "execution_count": 47,
     "metadata": {},
     "output_type": "execute_result"
    }
   ],
   "source": [
    "s= \"ABC\"\n",
    "s.islower()"
   ]
  },
  {
   "cell_type": "code",
   "execution_count": 52,
   "id": "1c1d6e72-7fb9-4a24-8745-a9d7f4a6ae37",
   "metadata": {},
   "outputs": [
    {
     "name": "stdout",
     "output_type": "stream",
     "text": [
      "['hello', 'world']\n"
     ]
    },
    {
     "data": {
      "text/plain": [
       "'hello_world'"
      ]
     },
     "execution_count": 52,
     "metadata": {},
     "output_type": "execute_result"
    }
   ],
   "source": [
    "s=\"hello world\"\n",
    "l = s.split()\n",
    "print(l)\n",
    "\"_\".join(l)"
   ]
  },
  {
   "cell_type": "code",
   "execution_count": 89,
   "id": "a3e7f350-070e-4ac6-992a-d9608a5aedbc",
   "metadata": {},
   "outputs": [
    {
     "data": {
      "text/plain": [
       "'ab$chdb'"
      ]
     },
     "execution_count": 89,
     "metadata": {},
     "output_type": "execute_result"
    }
   ],
   "source": [
    "s=\"___ab_chdb____\"\n",
    "\"$\".join(s.strip(\"_\").split(\"_\"))\n",
    "# \"\".join(s.strip(\"_\").split(\"_\"))"
   ]
  },
  {
   "cell_type": "code",
   "execution_count": 5,
   "id": "36ef6ff0-c121-4b0a-a520-e47f60843621",
   "metadata": {},
   "outputs": [
    {
     "name": "stdout",
     "output_type": "stream",
     "text": [
      "valid\n"
     ]
    }
   ],
   "source": [
    "p = \"Lucknow@CB5G\"\n",
    "\n",
    "l=[0,0,0,0,0]\n",
    "l[0] = len(p) >8\n",
    "for i in p:\n",
    "    if(i.isupper()):\n",
    "        l[1]= 1\n",
    "    elif( i.islower()):\n",
    "        l[2]=1\n",
    "    elif( i.isnumeric()):\n",
    "        l[3]=1\n",
    "    else:\n",
    "        l[4] =1\n",
    "isValid = True\n",
    "for i in l:\n",
    "    if(i==0):\n",
    "        isValid= False\n",
    "        break\n",
    "        \n",
    "if(isValid):\n",
    "    print(\"valid\")\n",
    "else:\n",
    "    print(\"Invalid\")"
   ]
  },
  {
   "cell_type": "code",
   "execution_count": 69,
   "id": "81b2085f-ce68-4697-a123-111f8085fd0d",
   "metadata": {},
   "outputs": [
    {
     "name": "stdout",
     "output_type": "stream",
     "text": [
      "[1, 18446744073709551616, 3433683820292512484657849089281, 340282366920938463463374607431768211456, 542101086242752217003726400434970855712890625]\n"
     ]
    }
   ],
   "source": [
    "l=[1,2,3,4,5]\n",
    "sq=[]\n",
    "for i in l:\n",
    "    sq.append(i**64)\n",
    "print(sq)"
   ]
  },
  {
   "cell_type": "code",
   "execution_count": 78,
   "id": "f4963a47-efe9-4efd-8141-99a93ae5c550",
   "metadata": {},
   "outputs": [
    {
     "name": "stdout",
     "output_type": "stream",
     "text": [
      "[4, 8, 15, 2, 7, 11]\n",
      "[15, 11, 8, 7, 4, 2]\n"
     ]
    }
   ],
   "source": [
    "l1= [4,8,15]\n",
    "l2= [2,7,11]\n",
    "l1+l2\n",
    "l1.extend(l2)\n",
    "print(l1)\n",
    "l1.sort(reverse=True)\n",
    "print(l1)"
   ]
  },
  {
   "cell_type": "code",
   "execution_count": 80,
   "id": "91de27c8-e52e-4e03-bf9f-248638b61842",
   "metadata": {},
   "outputs": [
    {
     "name": "stdout",
     "output_type": "stream",
     "text": [
      "[5, 2, 8, 6, 4, 1]\n"
     ]
    }
   ],
   "source": [
    "l=[1,4,6,8,2,5]\n",
    "l[-1::-1]\n",
    "l.reverse()\n",
    "print(l)"
   ]
  },
  {
   "cell_type": "code",
   "execution_count": 82,
   "id": "37834146-8470-4be1-8b85-07025da601fd",
   "metadata": {},
   "outputs": [
    {
     "name": "stdout",
     "output_type": "stream",
     "text": [
      "20 10\n"
     ]
    }
   ],
   "source": [
    "##swap two number\n",
    "a= 10\n",
    "b= 20\n",
    "a,b= b,a\n",
    "# c= a\n",
    "# a= b\n",
    "# b =c\n",
    "print(a,b)\n"
   ]
  },
  {
   "cell_type": "code",
   "execution_count": 84,
   "id": "d101abb9-d306-42b6-9cd8-24dba6bfb305",
   "metadata": {},
   "outputs": [
    {
     "name": "stdout",
     "output_type": "stream",
     "text": [
      "[2, 4, 8]\n",
      "[4, 16, 25, 1, 49, 81, 64]\n"
     ]
    }
   ],
   "source": [
    "l=[2,4,5,1,7,9,8]\n",
    "print([i for i in l if i%2==0])\n",
    "print([i**2 for i in l])"
   ]
  },
  {
   "cell_type": "code",
   "execution_count": null,
   "id": "42ba6812-610f-4e34-92e7-478e9454d921",
   "metadata": {},
   "outputs": [],
   "source": []
  }
 ],
 "metadata": {
  "kernelspec": {
   "display_name": "Python 3 (ipykernel)",
   "language": "python",
   "name": "python3"
  },
  "language_info": {
   "codemirror_mode": {
    "name": "ipython",
    "version": 3
   },
   "file_extension": ".py",
   "mimetype": "text/x-python",
   "name": "python",
   "nbconvert_exporter": "python",
   "pygments_lexer": "ipython3",
   "version": "3.11.5"
  }
 },
 "nbformat": 4,
 "nbformat_minor": 5
}
