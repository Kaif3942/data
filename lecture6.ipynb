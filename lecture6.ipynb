{
 "cells": [
  {
   "cell_type": "markdown",
   "id": "77b913b7-3055-4855-80f6-1a03967862aa",
   "metadata": {},
   "source": [
    "## jupyter-notebook\n"
   ]
  },
  {
   "cell_type": "code",
   "execution_count": 9,
   "id": "8311312e-907a-4f7d-8136-e40cb89acde1",
   "metadata": {},
   "outputs": [
    {
     "data": {
      "text/plain": [
       "'edoc ecitcarp ziuq skeeg'"
      ]
     },
     "execution_count": 9,
     "metadata": {},
     "output_type": "execute_result"
    }
   ],
   "source": [
    "s = \"code practice quiz geeks\"\n",
    "ns=\"agfd fy  jfu6fjhb\"\n",
    "# print(s[-1::-1])\n",
    "# for st in s.split():\n",
    "#     print(st)\n",
    "#     ns+= st[-1::-1]+ \" \"\n",
    "# print(ns)\n",
    "def rev(st):\n",
    "    return st[-1::-1]\n",
    "\" \".join(list(map(rev,s.split())))"
   ]
  },
  {
   "cell_type": "markdown",
   "id": "f6d6547f-0b77-4feb-9d1f-773535d78e6e",
   "metadata": {},
   "source": [
    "## OOPS"
   ]
  },
  {
   "cell_type": "code",
   "execution_count": 31,
   "id": "4e2c89c2-a1cc-4492-b913-7ad465c7703d",
   "metadata": {},
   "outputs": [
    {
     "name": "stdout",
     "output_type": "stream",
     "text": [
      "avg of marti800 is 20 km\n",
      "avg of lexus is 30 km\n",
      "avg of corolla is 15 miles\n",
      "220km/hr\n",
      "220km/hr\n"
     ]
    }
   ],
   "source": [
    "class Car():\n",
    "    wheel=4\n",
    "    window=5\n",
    "    def __init__(self,model=\"none\"): #constructor\n",
    "        self.model = model #instance variable\n",
    "       \n",
    "    def milage(self,n,unit): #method\n",
    "        print(\"avg of {2} is {0} {1}\".format(n,unit,self.model))\n",
    "    @staticmethod\n",
    "    def topSpeed():\n",
    "        print(\"220km/hr\")\n",
    "suzuki = Car(\"marti800\")\n",
    "suzuki.milage(20,\"km\")\n",
    "suzuki1=Car(\"lexus\")\n",
    "suzuki1.milage(30,\"km\")\n",
    "toyota = Car(\"corolla\")\n",
    "toyota.milage(15,\"miles\")\n",
    "\n",
    "hundai =Car()\n",
    "Car.wheel ##class variable\n",
    "suzuki.model ##object instance varibale\n",
    "suzuki.wheel\n",
    "Car.topSpeed() ##static method\n",
    "suzuki.topSpeed() ##"
   ]
  },
  {
   "cell_type": "markdown",
   "id": "b08169f5-0673-435b-b248-ee740442fd61",
   "metadata": {},
   "source": [
    "## inheritance"
   ]
  },
  {
   "cell_type": "code",
   "execution_count": 32,
   "id": "bb6b6365-65a3-486a-abd1-01525540fd2d",
   "metadata": {},
   "outputs": [
    {
     "name": "stdout",
     "output_type": "stream",
     "text": [
      "avg of fortuner is 22 km\n"
     ]
    }
   ],
   "source": [
    "class Car():\n",
    "    wheel=4\n",
    "    window=5\n",
    "    def __init__(self,model=\"none\"): #constructor\n",
    "        self.model = model #instance variable\n",
    "       \n",
    "    def milage(self,n,unit): #method\n",
    "        print(\"avg of {2} is {0} {1}\".format(n,unit,self.model))\n",
    "    @staticmethod\n",
    "    def topSpeed():\n",
    "        print(\"220km/hr\")\n",
    "\n",
    "class Toyota(Car):\n",
    "    def __init__(self,model,isSunRoof,ac):\n",
    "        self.sunroof=isSunRoof\n",
    "        self.Ac= ac\n",
    "        Car.__init__(self,model)\n",
    "        \n",
    "fortuner =Toyota(\"fortuner\",True)\n",
    "fortuner.milage(22,\"km\")"
   ]
  },
  {
   "cell_type": "code",
   "execution_count": null,
   "id": "0a06a996-35ff-4bf1-98a4-ae637bdac6cc",
   "metadata": {},
   "outputs": [],
   "source": [
    "class Laptop():\n",
    "    ram=8\n",
    "    rom=512\n",
    "    screen=16\n",
    "    def __init__(self):\n",
    "        pass\n",
    "class Dell(Laptop):\n",
    "    color =\"grey\"\n",
    "    def __init__(self):\n",
    "        Laptop.__init__(self)\n",
    "class Latitude(Dell):\n",
    "    processor = \"i5\"\n",
    "    def __init__(self):\n",
    "        Dell.__init__(self)\n",
    "# dell = Dell()\n",
    "# dell.color\n",
    "l= Latitude()\n",
    "l.processor"
   ]
  },
  {
   "cell_type": "code",
   "execution_count": 37,
   "id": "468e68dc-bbb2-4be3-8521-b3fd4792b242",
   "metadata": {},
   "outputs": [
    {
     "data": {
      "text/plain": [
       "'grey'"
      ]
     },
     "execution_count": 37,
     "metadata": {},
     "output_type": "execute_result"
    }
   ],
   "source": [
    "class Laptop():\n",
    "    ram=8\n",
    "    rom=512\n",
    "    screen=16\n",
    "    def __init__(self):\n",
    "        pass\n",
    "\n",
    "class Desktop():\n",
    "    ram=8\n",
    "    rom=512\n",
    "    printer =True\n",
    "    def __init__(self):\n",
    "        pass\n",
    "\n",
    "class Dell(Laptop,Desktop):\n",
    "    color =\"grey\"\n",
    "    def __init__(self):\n",
    "        Laptop.__init__(self)\n",
    "\n",
    "dell = Dell()\n",
    "dell.color\n"
   ]
  },
  {
   "cell_type": "code",
   "execution_count": null,
   "id": "02ff5499-eb6b-4e0a-8fbf-2435854d2a04",
   "metadata": {},
   "outputs": [],
   "source": []
  }
 ],
 "metadata": {
  "kernelspec": {
   "display_name": "Python 3 (ipykernel)",
   "language": "python",
   "name": "python3"
  },
  "language_info": {
   "codemirror_mode": {
    "name": "ipython",
    "version": 3
   },
   "file_extension": ".py",
   "mimetype": "text/x-python",
   "name": "python",
   "nbconvert_exporter": "python",
   "pygments_lexer": "ipython3",
   "version": "3.11.5"
  }
 },
 "nbformat": 4,
 "nbformat_minor": 5
}
