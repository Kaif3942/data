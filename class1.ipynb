{
 "cells": [
  {
   "cell_type": "code",
   "execution_count": 4,
   "id": "82d076be-1cf4-4c10-80ef-cd56e6c36aa5",
   "metadata": {},
   "outputs": [
    {
     "name": "stdout",
     "output_type": "stream",
     "text": [
      "hello world\n",
      "5\n"
     ]
    }
   ],
   "source": [
    "print(\"hello world\")\n",
    "print(add(2,3))\n"
   ]
  },
  {
   "cell_type": "code",
   "execution_count": 2,
   "id": "9bbc8d88-e006-488b-955b-d4d842a973f2",
   "metadata": {},
   "outputs": [
    {
     "name": "stdout",
     "output_type": "stream",
     "text": [
      "5\n"
     ]
    }
   ],
   "source": [
    "#i am defining add function\n",
    "def add(a,b):\n",
    "    return a+b\n",
    "print(add(2,3))"
   ]
  },
  {
   "cell_type": "markdown",
   "id": "09171550-a8ae-4360-b80f-48603794824e",
   "metadata": {},
   "source": [
    "my first notebok\n"
   ]
  },
  {
   "cell_type": "code",
   "execution_count": 7,
   "id": "ae3df6e9-ec6a-4205-97d2-690a3b16b4e2",
   "metadata": {},
   "outputs": [
    {
     "name": "stdout",
     "output_type": "stream",
     "text": [
      "5\n",
      "-1\n"
     ]
    },
    {
     "ename": "ZeroDivisionError",
     "evalue": "division by zero",
     "output_type": "error",
     "traceback": [
      "\u001b[1;31m---------------------------------------------------------------------------\u001b[0m",
      "\u001b[1;31mZeroDivisionError\u001b[0m                         Traceback (most recent call last)",
      "Cell \u001b[1;32mIn[7], line 3\u001b[0m\n\u001b[0;32m      1\u001b[0m \u001b[38;5;28mprint\u001b[39m(\u001b[38;5;241m2\u001b[39m\u001b[38;5;241m+\u001b[39m\u001b[38;5;241m3\u001b[39m)\n\u001b[0;32m      2\u001b[0m \u001b[38;5;28mprint\u001b[39m(\u001b[38;5;241m3\u001b[39m\u001b[38;5;241m-\u001b[39m\u001b[38;5;241m4\u001b[39m)\n\u001b[1;32m----> 3\u001b[0m \u001b[38;5;28mprint\u001b[39m(\u001b[38;5;241;43m1\u001b[39;49m\u001b[38;5;241;43m/\u001b[39;49m\u001b[38;5;241;43m0\u001b[39;49m)\n",
      "\u001b[1;31mZeroDivisionError\u001b[0m: division by zero"
     ]
    }
   ],
   "source": [
    "print(2+3)\n",
    "print(3-4)\n",
    "print(1/0)"
   ]
  },
  {
   "cell_type": "code",
   "execution_count": 8,
   "id": "28372071-bbe0-4a25-ab85-4d9f3c4cfbc7",
   "metadata": {},
   "outputs": [
    {
     "name": "stdout",
     "output_type": "stream",
     "text": [
      "10\n"
     ]
    }
   ],
   "source": [
    "print(2*5)"
   ]
  },
  {
   "cell_type": "code",
   "execution_count": 18,
   "id": "5d2ff220-234e-40d6-ba00-5d22c82a2a1f",
   "metadata": {},
   "outputs": [
    {
     "name": "stdin",
     "output_type": "stream",
     "text": [
      "Enter a Number 5\n",
      "Enter another number 4\n"
     ]
    },
    {
     "name": "stdout",
     "output_type": "stream",
     "text": [
      "20\n"
     ]
    }
   ],
   "source": [
    "#taking input in python\n",
    "\n",
    "a= int(input(\"Enter a Number\"))\n",
    "b= int(input(\"Enter another number\"))\n",
    "print(a*b)"
   ]
  },
  {
   "cell_type": "code",
   "execution_count": 16,
   "id": "0a40cc49-9037-4d79-88fd-885594aed891",
   "metadata": {},
   "outputs": [
    {
     "name": "stdout",
     "output_type": "stream",
     "text": [
      "5\n"
     ]
    }
   ],
   "source": [
    "print((50 - 5*6) // 4)"
   ]
  },
  {
   "cell_type": "code",
   "execution_count": 19,
   "id": "4e378cea-7373-4464-bf53-b95f8215ba89",
   "metadata": {},
   "outputs": [
    {
     "name": "stdout",
     "output_type": "stream",
     "text": [
      "1.333333333333333\n"
     ]
    }
   ],
   "source": [
    "a= 5-3*6//2 +  8/6*4\n",
    "print(a)"
   ]
  },
  {
   "cell_type": "code",
   "execution_count": 2,
   "id": "2e1e99eb-0008-4770-91a7-ef99599abcef",
   "metadata": {},
   "outputs": [
    {
     "name": "stdout",
     "output_type": "stream",
     "text": [
      "-6.0\n"
     ]
    }
   ],
   "source": [
    "a= 8/6*(4-8)// (5+9)*6\n",
    "print(a)"
   ]
  },
  {
   "cell_type": "code",
   "execution_count": 21,
   "id": "23b1ca6c-4275-4c4f-832c-80ec1cefae91",
   "metadata": {},
   "outputs": [
    {
     "name": "stdout",
     "output_type": "stream",
     "text": [
      "-0.3333333333333333\n"
     ]
    }
   ],
   "source": [
    "print(8/(-24))"
   ]
  },
  {
   "cell_type": "code",
   "execution_count": 1,
   "id": "15fa370a-98aa-4550-8cb9-96792c9e1383",
   "metadata": {},
   "outputs": [
    {
     "name": "stdout",
     "output_type": "stream",
     "text": [
      "-1.0\n"
     ]
    }
   ],
   "source": [
    "print((-5.32)//14)"
   ]
  },
  {
   "cell_type": "code",
   "execution_count": 25,
   "id": "c6799536-5212-44e7-aec8-60c56960d78f",
   "metadata": {},
   "outputs": [
    {
     "name": "stdout",
     "output_type": "stream",
     "text": [
      "-1\n"
     ]
    }
   ],
   "source": [
    "print(-4//14)"
   ]
  },
  {
   "cell_type": "code",
   "execution_count": null,
   "id": "15638a4f-c49f-490f-a36d-4fdf22af41ff",
   "metadata": {},
   "outputs": [],
   "source": [
    "a= 2**5\n",
    "print(a)"
   ]
  },
  {
   "cell_type": "code",
   "execution_count": 3,
   "id": "36266356-22e9-4406-8b55-28db5db4e393",
   "metadata": {},
   "outputs": [
    {
     "name": "stdout",
     "output_type": "stream",
     "text": [
      "59.66666666666667\n"
     ]
    }
   ],
   "source": [
    "a= 6**2- 8/3*8+ 5*9\n",
    "print(a)\n"
   ]
  },
  {
   "cell_type": "code",
   "execution_count": 6,
   "id": "c5c4e173-3162-4714-a3ea-d282eca60693",
   "metadata": {},
   "outputs": [
    {
     "name": "stdin",
     "output_type": "stream",
     "text": [
      "Enter height of triangle 5\n",
      "Enter base of triangle 7\n"
     ]
    },
    {
     "name": "stdout",
     "output_type": "stream",
     "text": [
      "Area of Traingle = 17 $Area of Traingle = 17.5\n"
     ]
    }
   ],
   "source": [
    "h = int(input(\"Enter height of triangle\"))\n",
    "b = int(input(\"Enter base of triangle\"))\n",
    "area = (h*b)//2\n",
    "print(\"Area of Traingle =\", area , end=\" $ \")\n",
    "area1 = (h*b)/2\n",
    "print(\"Area of Traingle =\", area1)\n"
   ]
  },
  {
   "cell_type": "code",
   "execution_count": 7,
   "id": "f2e78e65-173d-49d8-9cc5-3e749eafbd59",
   "metadata": {},
   "outputs": [
    {
     "ename": "IndentationError",
     "evalue": "unexpected indent (2650498737.py, line 11)",
     "output_type": "error",
     "traceback": [
      "\u001b[1;36m  Cell \u001b[1;32mIn[7], line 11\u001b[1;36m\u001b[0m\n\u001b[1;33m    print(type(c))\u001b[0m\n\u001b[1;37m    ^\u001b[0m\n\u001b[1;31mIndentationError\u001b[0m\u001b[1;31m:\u001b[0m unexpected indent\n"
     ]
    }
   ],
   "source": [
    "a= 5\n",
    "b = 5.5\n",
    "s= 'abc'\n",
    "d= True\n",
    "c= 2+ 3j\n",
    "print(a,b,s,d,c)\n",
    "print(type(a))\n",
    "print(type(b))\n",
    "print(type(s))\n",
    "print(type(d))\n",
    "print(type(c))"
   ]
  },
  {
   "cell_type": "code",
   "execution_count": 11,
   "id": "33d4c50b-57d6-4fed-ae4c-a651ebb67727",
   "metadata": {},
   "outputs": [
    {
     "name": "stdout",
     "output_type": "stream",
     "text": [
      " welcome to coding blocks\n",
      "    data analytics course   \n",
      "\n",
      "abc\tdef\n"
     ]
    }
   ],
   "source": [
    " a= \"\"\" welcome to coding blocks\n",
    "     data analytics course   \n",
    "\"\"\"\n",
    "print(a)\n",
    "#escape sequence \\t, \\n\n",
    "a= 'abc\\tdef'\n",
    "print(a)"
   ]
  },
  {
   "cell_type": "code",
   "execution_count": 20,
   "id": "3582081b-11ba-4c44-9a43-a02c3c49331a",
   "metadata": {},
   "outputs": [
    {
     "name": "stdin",
     "output_type": "stream",
     "text": [
      "Enter a number 6\n"
     ]
    },
    {
     "name": "stdout",
     "output_type": "stream",
     "text": [
      "Even\n"
     ]
    }
   ],
   "source": [
    "#conditional statement\n",
    "a = int(input(\"Enter a number\"))\n",
    "if(a%2 == 0):\n",
    "    print(\"Even\")\n",
    "else:\n",
    "    print(\"Odd\")"
   ]
  },
  {
   "cell_type": "code",
   "execution_count": 23,
   "id": "618ca2eb-9bd6-443d-a3a1-1205aa7b8d39",
   "metadata": {},
   "outputs": [
    {
     "name": "stdin",
     "output_type": "stream",
     "text": [
      "Enter a num 2\n"
     ]
    },
    {
     "name": "stdout",
     "output_type": "stream",
     "text": [
      "2\n",
      "4\n",
      "6\n",
      "8\n",
      "10\n",
      "12\n",
      "14\n",
      "16\n",
      "18\n",
      "20\n"
     ]
    }
   ],
   "source": [
    "#while loop statement\n",
    "\n",
    "count = int(input(\"Enter a num\"))\n",
    "while (count<= 20):\n",
    "    print(count)\n",
    "    count+=2\n"
   ]
  },
  {
   "cell_type": "code",
   "execution_count": 27,
   "id": "19571b3f-9494-4a02-8296-324b994282b6",
   "metadata": {},
   "outputs": [
    {
     "name": "stdin",
     "output_type": "stream",
     "text": [
      "Enter a num 10\n",
      "Enter number 12 \n",
      "Enter number 15\n",
      "Enter number 17\n",
      "Enter number 25\n",
      "Enter number 35\n",
      "Enter number 40\n",
      "Enter number 42\n",
      "Enter number 33\n",
      "Enter number 22\n",
      "Enter number 18\n"
     ]
    },
    {
     "name": "stdout",
     "output_type": "stream",
     "text": [
      "42\n"
     ]
    }
   ],
   "source": [
    "n = int(input(\"Enter a num\"))\n",
    "largest =0\n",
    "count =1\n",
    "while(count<=n):\n",
    "    num = int(input(\"Enter number\"))\n",
    "    if(largest <= num):\n",
    "        largest = num\n",
    "    count +=1 \n",
    "print(largest)"
   ]
  },
  {
   "cell_type": "code",
   "execution_count": 2,
   "id": "baa79970-907e-4e6b-b4d4-84d5860c2c62",
   "metadata": {},
   "outputs": [
    {
     "name": "stdin",
     "output_type": "stream",
     "text": [
      "Enter a number 20192813\n"
     ]
    },
    {
     "name": "stdout",
     "output_type": "stream",
     "text": [
      "8\n"
     ]
    }
   ],
   "source": [
    "n = int(input(\"Enter a number\"))\n",
    "c=0\n",
    "while(n>0):\n",
    "    c+=1\n",
    "    n= n//10\n",
    "print(c)"
   ]
  },
  {
   "cell_type": "code",
   "execution_count": 4,
   "id": "02f73654-7817-444c-98d0-a78f203cd601",
   "metadata": {},
   "outputs": [
    {
     "name": "stdin",
     "output_type": "stream",
     "text": [
      "Enter a number 30467\n"
     ]
    },
    {
     "name": "stdout",
     "output_type": "stream",
     "text": [
      "76403\n"
     ]
    }
   ],
   "source": [
    "n = int(input(\"Enter a number\"))\n",
    "rev=0\n",
    "while(n>0):\n",
    "    rem = n%10\n",
    "    n = n//10\n",
    "    rev = rev*10 + rem\n",
    "print(rev)"
   ]
  },
  {
   "cell_type": "code",
   "execution_count": 5,
   "id": "a03a164d-ba1a-4335-9a9b-16a73b801828",
   "metadata": {},
   "outputs": [
    {
     "name": "stdin",
     "output_type": "stream",
     "text": [
      "Enter a number 12\n",
      "Enter a number 13\n",
      "Enter a number 18\n",
      "Enter a number 17\n",
      "Enter a number 21\n",
      "Enter a number 25\n"
     ]
    }
   ],
   "source": [
    "while(True):\n",
    "    n = int(input(\"Enter a number\"))\n",
    "    if(n%5==0):\n",
    "        break\n"
   ]
  },
  {
   "cell_type": "code",
   "execution_count": 8,
   "id": "0ea26290-bffb-4e84-9340-841397195d57",
   "metadata": {},
   "outputs": [
    {
     "name": "stdout",
     "output_type": "stream",
     "text": [
      "20 10\n"
     ]
    }
   ],
   "source": [
    "a= 10\n",
    "b= 20\n",
    "#swap1\n",
    "# c= a\n",
    "# a=b\n",
    "# b=c\n",
    "\n",
    "#swap2\n",
    "a,b =b,a\n",
    "print(a,b)"
   ]
  },
  {
   "cell_type": "code",
   "execution_count": 21,
   "id": "f6c84434-fb31-45b3-8d29-fe0541fdf871",
   "metadata": {},
   "outputs": [
    {
     "name": "stdout",
     "output_type": "stream",
     "text": [
      "\n",
      "* \n",
      "* * \n",
      "* * * \n",
      "* * * * \n",
      "* * * * * \n"
     ]
    }
   ],
   "source": [
    "r=1\n",
    "c=1\n",
    "while(r<=5):\n",
    "    c=1\n",
    "    while(c<=r):\n",
    "        print(\"*\",end=\" \")\n",
    "        c+=1\n",
    "    r+=1\n",
    "    print()"
   ]
  },
  {
   "cell_type": "code",
   "execution_count": 19,
   "id": "e4f6ed3d-c055-4be3-b009-2706ed66a759",
   "metadata": {},
   "outputs": [
    {
     "name": "stdout",
     "output_type": "stream",
     "text": [
      "    * \n",
      "   * * \n",
      "  * * * \n",
      " * * * * \n",
      "* * * * * \n"
     ]
    }
   ],
   "source": [
    "r=1\n",
    "c=1\n",
    "while(r<=5):\n",
    "    space =1\n",
    "    while(space <=  5-r):\n",
    "        print(\" \",end=\"\")\n",
    "        space+=1\n",
    "    c=1\n",
    "    while(c<=r):\n",
    "        print(\"*\",end=\" \")\n",
    "        c+=1\n",
    "    r+=1\n",
    "    print()"
   ]
  },
  {
   "cell_type": "code",
   "execution_count": 1,
   "id": "a6f5be41-a913-4e14-8280-317b38015381",
   "metadata": {},
   "outputs": [
    {
     "name": "stdout",
     "output_type": "stream",
     "text": [
      "1\n",
      "2\n",
      "3\n",
      "4\n",
      "5\n",
      "6\n",
      "7\n",
      "8\n",
      "9\n",
      "10\n",
      "10\n",
      "9\n",
      "8\n",
      "7\n",
      "6\n",
      "5\n",
      "4\n",
      "3\n",
      "2\n"
     ]
    }
   ],
   "source": [
    "c=1\n",
    "while(c<=10):\n",
    "    print(c)\n",
    "    c+=1\n",
    "for c in range(10,1,-1): ## for (i=1;i<10;i++)\n",
    "    print(c)"
   ]
  },
  {
   "cell_type": "code",
   "execution_count": 22,
   "id": "4b012389-128c-4895-9895-01dfda99a0c1",
   "metadata": {},
   "outputs": [
    {
     "name": "stdout",
     "output_type": "stream",
     "text": [
      "\n",
      "* \n",
      "* * \n",
      "* * * \n",
      "* * * * \n",
      "* * * * * \n"
     ]
    }
   ],
   "source": [
    "for r in range(6): ## for(r=0;r<6;r++)\n",
    "    for c in range(r): ## for(c=0;c<r;c++)\n",
    "        print(\"*\", end=\" \")\n",
    "    print()"
   ]
  },
  {
   "cell_type": "code",
   "execution_count": 42,
   "id": "7054040e-4395-4ce2-9edd-0debf4228c19",
   "metadata": {},
   "outputs": [
    {
     "name": "stdin",
     "output_type": "stream",
     "text": [
      "Enter a num 33\n"
     ]
    },
    {
     "name": "stdout",
     "output_type": "stream",
     "text": [
      "Not Prime\n"
     ]
    },
    {
     "name": "stdin",
     "output_type": "stream",
     "text": [
      "Enter a num 32\n"
     ]
    },
    {
     "name": "stdout",
     "output_type": "stream",
     "text": [
      "Not Prime\n"
     ]
    }
   ],
   "source": [
    "def IsPrime(n):\n",
    "    for i in range(2,n):\n",
    "        if(n%i ==0):\n",
    "            return False\n",
    "    return True\n",
    "\n",
    "\n",
    "n = int(input(\"Enter a num\"))\n",
    "if(IsPrime(n)):\n",
    "    print(\"Prime\")\n",
    "else:\n",
    "    print(\"Not Prime\")\n",
    "        "
   ]
  },
  {
   "cell_type": "code",
   "execution_count": 35,
   "id": "58bda2a5-0851-4f40-8739-87dce75b2e9c",
   "metadata": {},
   "outputs": [
    {
     "name": "stdin",
     "output_type": "stream",
     "text": [
      " D\n"
     ]
    },
    {
     "name": "stdout",
     "output_type": "stream",
     "text": [
      "sec c\n"
     ]
    }
   ],
   "source": [
    "n = input()\n",
    "match(n):\n",
    "    case \"A\":\n",
    "        print(\"sec a\")\n",
    "    case \"B\":\n",
    "        print(\"sec b\")\n",
    "    case _:\n",
    "        print(\"sec c\")"
   ]
  },
  {
   "cell_type": "code",
   "execution_count": 3,
   "id": "8eeee0e1-3808-46d3-83d0-1eb86acd127a",
   "metadata": {},
   "outputs": [
    {
     "name": "stdout",
     "output_type": "stream",
     "text": [
      "5\n",
      "17\n"
     ]
    }
   ],
   "source": [
    "def add(a,b,c=0):\n",
    "    return a+b+c\n",
    "print(add(2,3))\n",
    "print(add(5,8,4))"
   ]
  },
  {
   "cell_type": "code",
   "execution_count": 49,
   "id": "1038752b-d61a-405d-a420-578c0f6c6091",
   "metadata": {},
   "outputs": [
    {
     "name": "stdout",
     "output_type": "stream",
     "text": [
      "13\n"
     ]
    }
   ],
   "source": [
    "def largestOfThree(a,b,c):\n",
    "    if(a>=b and\n",
    "       \n",
    "       a>=c):\n",
    "        return a\n",
    "    elif (b>=a and b>=c):\n",
    "        return b\n",
    "    else:\n",
    "        return c\n",
    "print(largestOfThree(2,8,13))"
   ]
  },
  {
   "cell_type": "code",
   "execution_count": 50,
   "id": "362d86d0-7abe-4fa1-91b3-88be52ab2763",
   "metadata": {},
   "outputs": [
    {
     "name": "stdout",
     "output_type": "stream",
     "text": [
      "2\n",
      "5\n",
      "7\n",
      "12\n",
      "18\n"
     ]
    }
   ],
   "source": [
    "def largest(*args):\n",
    "    for i in args:\n",
    "        print(i)\n",
    "largest(2,5,7,12,18)"
   ]
  },
  {
   "cell_type": "code",
   "execution_count": 4,
   "id": "dcd0aa80-9e64-453e-b7d1-781bc0c4bfe5",
   "metadata": {},
   "outputs": [
    {
     "name": "stdin",
     "output_type": "stream",
     "text": [
      "Enter row number 5\n"
     ]
    },
    {
     "name": "stdout",
     "output_type": "stream",
     "text": [
      "* * * * * \n",
      " * * * * \n",
      "  * * * \n",
      "   * * \n",
      "    * \n"
     ]
    }
   ],
   "source": [
    "row = int(input(\"Enter row number\"))\n",
    "for r in range(row):\n",
    "    for s in range(r):\n",
    "        print(\"\",end=\" \")\n",
    "    for c in range(row-r):\n",
    "        print(\"*\", end=\" \")\n",
    "    print()"
   ]
  },
  {
   "cell_type": "code",
   "execution_count": 5,
   "id": "f270386a-f1cf-43c8-a46a-08c4c1816330",
   "metadata": {},
   "outputs": [
    {
     "name": "stdin",
     "output_type": "stream",
     "text": [
      "Enter row number 5\n"
     ]
    },
    {
     "name": "stdout",
     "output_type": "stream",
     "text": [
      "\n",
      "1 \n",
      "2 3 \n",
      "4 5 6 \n",
      "7 8 9 10 \n"
     ]
    }
   ],
   "source": [
    "row = int(input(\"Enter row number\"))\n",
    "count =1\n",
    "for r in range(row):\n",
    "    for c in range(r):\n",
    "        print(count, end= \" \")\n",
    "        count+=1\n",
    "    print()"
   ]
  },
  {
   "cell_type": "code",
   "execution_count": 11,
   "id": "f0ea16c5-e8fd-4b7b-8acd-106dcdfcb937",
   "metadata": {},
   "outputs": [
    {
     "name": "stdin",
     "output_type": "stream",
     "text": [
      "Enter row number 5\n"
     ]
    },
    {
     "name": "stdout",
     "output_type": "stream",
     "text": [
      "\n",
      "A \n",
      "B C \n",
      "D E F \n",
      "G H I J \n"
     ]
    }
   ],
   "source": [
    "row = int(input(\"Enter row number\"))\n",
    "start = \"A\"\n",
    "for r in range(row):\n",
    "    for c in range(r):\n",
    "        print(start, end= \" \")\n",
    "        start = chr(ord(start) + 1)\n",
    "    print()"
   ]
  },
  {
   "cell_type": "code",
   "execution_count": 17,
   "id": "9aa77fa0-7d02-4a69-8050-de06d4dc7916",
   "metadata": {},
   "outputs": [
    {
     "name": "stdout",
     "output_type": "stream",
     "text": [
      "True\n"
     ]
    }
   ],
   "source": [
    "def isNegative(n) -> bool:\n",
    "    return n<0\n",
    "a = isNegative(-5)\n",
    "print(a)"
   ]
  },
  {
   "cell_type": "markdown",
   "id": "9c4320d8-3746-467a-92af-c12601334de5",
   "metadata": {},
   "source": [
    "#lambda function\n"
   ]
  },
  {
   "cell_type": "code",
   "execution_count": 21,
   "id": "46748565-1a37-4b92-bb44-cf433693d533",
   "metadata": {},
   "outputs": [
    {
     "name": "stdout",
     "output_type": "stream",
     "text": [
      "False\n",
      "9\n"
     ]
    }
   ],
   "source": [
    "a= lambda n: n%2==0\n",
    "print(a(3))\n",
    "mul = lambda a,b: a*b\n",
    "print(mul(3,3))"
   ]
  },
  {
   "cell_type": "code",
   "execution_count": 10,
   "id": "50effe48-17c0-4645-848f-b4584a822239",
   "metadata": {},
   "outputs": [
    {
     "name": "stdout",
     "output_type": "stream",
     "text": [
      "13\n"
     ]
    }
   ],
   "source": [
    "#find nth fibonacii series 0,1,1,2,3,5,8,13\n",
    "def fib(n) ->int:\n",
    "    a,b = 0,1\n",
    "    if n==1: \n",
    "        return a\n",
    "    elif n==2:\n",
    "        return b\n",
    "    for i in range(1,n):\n",
    "        # c= a+b\n",
    "        # a=b\n",
    "        # b=c\n",
    "        a,b =b,a+b\n",
    "    return a\n",
    "n = fib(8)\n",
    "print(n)"
   ]
  },
  {
   "cell_type": "markdown",
   "id": "e7b50e8d-9fb0-42b4-ae62-93e5cfd7bc73",
   "metadata": {},
   "source": [
    "###string"
   ]
  },
  {
   "cell_type": "code",
   "execution_count": 42,
   "id": "347bfd9e-0d84-451a-ae2b-dd58a1bff698",
   "metadata": {},
   "outputs": [
    {
     "name": "stdout",
     "output_type": "stream",
     "text": [
      "___hello world___\n",
      "hello world\n",
      "-1\n",
      "['___hello', 'world___']\n"
     ]
    }
   ],
   "source": [
    "s= \"___hello world___\"\n",
    "print(s)\n",
    "print(s.strip(\"_\"))\n",
    "# print(s[0],s[-11])\n",
    "# print(s[10],s[10])\n",
    "# # s[0]='a' does not support assingment\n",
    "# s+= \"coding blocks\"\n",
    "# print(s)\n",
    "\n",
    "# # print(s.replace(\"coding blocks\",\" python\"))\n",
    "# # print(s.capitalize())\n",
    "# print(s.upper())\n",
    "# s.count(\"l\")\n",
    "print(s.find(\"x\"))\n",
    "print(s.split(\" \"))"
   ]
  },
  {
   "cell_type": "code",
   "execution_count": 41,
   "id": "1f185dd8-2aa2-4c26-971f-c40a84b11a32",
   "metadata": {},
   "outputs": [
    {
     "name": "stdin",
     "output_type": "stream",
     "text": [
      "Enter an email a@393\n"
     ]
    },
    {
     "name": "stdout",
     "output_type": "stream",
     "text": [
      "invalid\n"
     ]
    }
   ],
   "source": [
    "email = input(\"Enter an email\")\n",
    "if(email.endswith(\"@gmail.com\")):\n",
    "    print(email)\n",
    "else:\n",
    "    print(\"invalid\")"
   ]
  },
  {
   "cell_type": "code",
   "execution_count": 3,
   "id": "16a038ad-42c1-4b75-847f-1b2cf414af08",
   "metadata": {},
   "outputs": [
    {
     "name": "stdout",
     "output_type": "stream",
     "text": [
      "720\n"
     ]
    }
   ],
   "source": [
    "##factorial\n",
    "def fact(n):\n",
    "    ans=1\n",
    "    for i in range(1,n+1):\n",
    "        ans*= i\n",
    "    return ans\n",
    "print(fact(6))"
   ]
  },
  {
   "cell_type": "code",
   "execution_count": 7,
   "id": "9005a261-26e4-4ad3-99cc-2c3fc7e9fc85",
   "metadata": {},
   "outputs": [
    {
     "name": "stdout",
     "output_type": "stream",
     "text": [
      "True\n"
     ]
    }
   ],
   "source": [
    "def isPalindrome(s):\n",
    "    l = len(s)\n",
    "    for i in range(l//2):\n",
    "        if (s[i] != s[l-i-1]):\n",
    "            return False\n",
    "    return True\n",
    "s = \"abcba\"\n",
    "print(isPalindrome(s))"
   ]
  },
  {
   "cell_type": "markdown",
   "id": "fbaa4da6-e5aa-48a5-affb-f73324a7b75a",
   "metadata": {},
   "source": [
    "###String slicing\n",
    "a   b  c  d  e  f\n",
    "0   1  2  3  4  5 \n",
    "-6 -5 -4 -3 -2 -1\n"
   ]
  },
  {
   "cell_type": "code",
   "execution_count": 20,
   "id": "2bba5a00-23f3-4160-90c8-4424d7c24418",
   "metadata": {},
   "outputs": [
    {
     "name": "stdout",
     "output_type": "stream",
     "text": [
      "abcde\n",
      "\n",
      "ace\n",
      "edcb\n",
      "\n",
      "cdef\n",
      "fedcba\n"
     ]
    }
   ],
   "source": [
    "s = \"abcdef\"\n",
    "print(s[0:5])\n",
    "print(s[1:1])\n",
    "print(s[0:5:2])\n",
    "print(s[4:0:-1])\n",
    "print(s[-2:-4:1])\n",
    "print(s[2:])\n",
    "print(s[-1::-1])##reverse\n"
   ]
  },
  {
   "cell_type": "code",
   "execution_count": 22,
   "id": "3c049954-8262-4a24-9300-7f47310a9eac",
   "metadata": {},
   "outputs": [
    {
     "name": "stdin",
     "output_type": "stream",
     "text": [
      "Enter a string ahshahsh\n"
     ]
    },
    {
     "name": "stdout",
     "output_type": "stream",
     "text": [
      "False\n"
     ]
    }
   ],
   "source": [
    "s= input(\"Enter a string\")\n",
    "rev= s[-1::-1]\n",
    "if(s== rev):\n",
    "    print(\"True\")\n",
    "else:\n",
    "    print(\"False\")\n",
    "    "
   ]
  },
  {
   "cell_type": "code",
   "execution_count": 27,
   "id": "32b4d4f1-58d8-41df-8ecc-dafe05884b62",
   "metadata": {},
   "outputs": [
    {
     "name": "stdin",
     "output_type": "stream",
     "text": [
      "Enter string abcde\n"
     ]
    },
    {
     "name": "stdout",
     "output_type": "stream",
     "text": [
      "a\n",
      "ab\n",
      "abc\n",
      "abcd\n",
      "abcde\n",
      "b\n",
      "bc\n",
      "bcd\n",
      "bcde\n",
      "c\n",
      "cd\n",
      "cde\n",
      "d\n",
      "de\n",
      "e\n"
     ]
    }
   ],
   "source": [
    "s= input(\"Enter string\")\n",
    "for stx in range(0, len(s)):\n",
    "    for edx in range(stx +1, len(s)+1):\n",
    "        print(s[stx:edx])\n",
    "    \n"
   ]
  },
  {
   "cell_type": "markdown",
   "id": "c03cd027-1595-4ad9-803c-70d7cf1689f2",
   "metadata": {},
   "source": [
    "###List\n"
   ]
  },
  {
   "cell_type": "code",
   "execution_count": 7,
   "id": "4e051c5b-0446-44b0-b2b9-d1a5b39daa89",
   "metadata": {},
   "outputs": [
    {
     "name": "stdout",
     "output_type": "stream",
     "text": [
      "[4, 5, 6]\n",
      "<class 'list'>\n",
      "1\n",
      "2\n",
      "3\n"
     ]
    }
   ],
   "source": [
    "l =[1,2,3]\n",
    "l1 = list((4,5,6))\n",
    "print(l1)\n",
    "print(type(l))\n",
    "for i in l:\n",
    "    print(i)\n"
   ]
  },
  {
   "cell_type": "code",
   "execution_count": 15,
   "id": "77aa3ebf-a2d5-47d9-9a18-fff378ebcedc",
   "metadata": {},
   "outputs": [
    {
     "name": "stdout",
     "output_type": "stream",
     "text": [
      "[8, 7, 6, 5, 11, 4, 3, 2, 1]\n",
      "[1, 4, 9, 16, 121, 25, 36, 49, 64]\n",
      "11\n"
     ]
    }
   ],
   "source": [
    "##slicing in list\n",
    "l= [1,2,3,4,11,5,6,7,8]\n",
    "print(l[-1::-1])\n",
    "sq=[]\n",
    "for i in l:\n",
    "    sq.append(i**2)\n",
    "print(sq)\n",
    "# print(min(l))\n",
    "largest = 0\n",
    "for i in l:\n",
    "    if(largest < i):\n",
    "        largest = i\n",
    "print(largest)"
   ]
  },
  {
   "cell_type": "code",
   "execution_count": null,
   "id": "fb0de8cf-0b12-4899-aaeb-9681b3d30e07",
   "metadata": {},
   "outputs": [],
   "source": [
    "def fib(n):\n",
    "    l=[]\n",
    "    a,b =0,1\n",
    "    while n>0:\n",
    "        l.append(a)\n",
    "        a,b = b, a+b\n",
    "        n-=1\n",
    "    return l\n",
    "l = fib(10)\n",
    "print(l)"
   ]
  },
  {
   "cell_type": "code",
   "execution_count": 12,
   "id": "a9d940af-3c62-4919-8b60-770dd7edef32",
   "metadata": {},
   "outputs": [
    {
     "name": "stdout",
     "output_type": "stream",
     "text": [
      "[8, 7, 6, 5, 4, 3, 2, 1]\n"
     ]
    }
   ],
   "source": [
    "l= [1,2,3,4,5,6,7,8]\n",
    "left =0\n",
    "right = len(l)-1\n",
    "while(left <right):\n",
    "    l[left],l[right] = l[right],l[left]\n",
    "    left+=1\n",
    "    right-=1\n",
    "print(l)"
   ]
  },
  {
   "cell_type": "code",
   "execution_count": 14,
   "id": "a045aaa5-abf4-40fd-9818-d2a51981c4a5",
   "metadata": {},
   "outputs": [
    {
     "name": "stdout",
     "output_type": "stream",
     "text": [
      "[7, 8, 1, 2, 3, 4, 5, 6]\n"
     ]
    }
   ],
   "source": [
    "## function to reverse a list\n",
    "def reverse(start,end,l):\n",
    "    left =start\n",
    "    right = end\n",
    "    while(left <right):\n",
    "        l[left],l[right] = l[right],l[left]\n",
    "        left+=1\n",
    "        right-=1\n",
    "    return l\n",
    "\n",
    "l= [1,2,3,4,5,6,7,8]\n",
    "reverse(6,7,l)\n",
    "reverse(0,5,l)\n",
    "reverse(0,7,l)\n",
    "print(l)\n",
    "    "
   ]
  },
  {
   "cell_type": "code",
   "execution_count": 18,
   "id": "e20c4b3e-8d91-46e1-b3ac-86da89269e74",
   "metadata": {},
   "outputs": [
    {
     "name": "stdout",
     "output_type": "stream",
     "text": [
      "[0, 1, 2, 3, 4]\n"
     ]
    }
   ],
   "source": [
    "# list comprehension\n",
    "l = [ i for i in range(5)]\n",
    "print(l)"
   ]
  },
  {
   "cell_type": "code",
   "execution_count": 21,
   "id": "6815ecb1-3d6f-4937-91d7-1710958df422",
   "metadata": {},
   "outputs": [
    {
     "name": "stdout",
     "output_type": "stream",
     "text": [
      "[4, 16]\n"
     ]
    }
   ],
   "source": [
    "l=[1,2,3,4,5]\n",
    "# l1=[]\n",
    "# for i in l:\n",
    "#     l1.append(i**2)\n",
    "\n",
    "l1 = [i**2 for i in l if i%2==0]\n",
    "print(l1)"
   ]
  },
  {
   "cell_type": "code",
   "execution_count": 24,
   "id": "9cf3535f-86a1-491d-996d-9dd4891271ab",
   "metadata": {},
   "outputs": [
    {
     "name": "stdout",
     "output_type": "stream",
     "text": [
      "(1, 4) (1, 5) (1, 6) (1, 7) (2, 4) (2, 5) (2, 6) (2, 7) (3, 4) (3, 5) (3, 6) (3, 7) "
     ]
    }
   ],
   "source": [
    "x =[1,2,3]\n",
    "y=[4,5,6,7]\n",
    "for i in x:\n",
    "    for j in y:\n",
    "        print((i,j),end=\" \")"
   ]
  },
  {
   "cell_type": "code",
   "execution_count": 27,
   "id": "4967ad7a-5824-4caa-ac86-db1abb195412",
   "metadata": {},
   "outputs": [
    {
     "name": "stdout",
     "output_type": "stream",
     "text": [
      "[(1, 4), (1, 5), (1, 6), (1, 7), (2, 4), (2, 5), (2, 6), (2, 7), (3, 4), (3, 5), (3, 6), (3, 7)]\n"
     ]
    }
   ],
   "source": [
    "cord = [(i,j) for i in x for j in y]\n",
    "print(cord)"
   ]
  },
  {
   "cell_type": "code",
   "execution_count": 15,
   "id": "e11cf528-5bdb-450c-bc1a-4c201db12c87",
   "metadata": {},
   "outputs": [
    {
     "name": "stdout",
     "output_type": "stream",
     "text": [
      "<class 'tuple'> 0\n"
     ]
    },
    {
     "ename": "TypeError",
     "evalue": "'tuple' object does not support item assignment",
     "output_type": "error",
     "traceback": [
      "\u001b[1;31m---------------------------------------------------------------------------\u001b[0m",
      "\u001b[1;31mTypeError\u001b[0m                                 Traceback (most recent call last)",
      "Cell \u001b[1;32mIn[15], line 7\u001b[0m\n\u001b[0;32m      2\u001b[0m \u001b[38;5;28mprint\u001b[39m(\u001b[38;5;28mtype\u001b[39m(t), t[\u001b[38;5;241m5\u001b[39m])\n\u001b[0;32m      3\u001b[0m \u001b[38;5;66;03m# for i in t:\u001b[39;00m\n\u001b[0;32m      4\u001b[0m \u001b[38;5;66;03m#     print(i)\u001b[39;00m\n\u001b[0;32m      5\u001b[0m \u001b[38;5;66;03m# t1=(10,11,12)\u001b[39;00m\n\u001b[0;32m      6\u001b[0m \u001b[38;5;66;03m# t+=t1\u001b[39;00m\n\u001b[1;32m----> 7\u001b[0m \u001b[43mt\u001b[49m\u001b[43m[\u001b[49m\u001b[38;5;241;43m1\u001b[39;49m\u001b[43m]\u001b[49m \u001b[38;5;241m=\u001b[39m\u001b[38;5;241m7\u001b[39m\n\u001b[0;32m      8\u001b[0m \u001b[38;5;28mprint\u001b[39m(t[\u001b[38;5;241m1\u001b[39m])\n",
      "\u001b[1;31mTypeError\u001b[0m: 'tuple' object does not support item assignment"
     ]
    }
   ],
   "source": [
    "t = (2,5,6,8,9,0)\n",
    "print(type(t), t[5])\n",
    "# for i in t:\n",
    "#     print(i)\n",
    "# t1=(10,11,12)\n",
    "# t+=t1\n",
    "t[1] =7\n",
    "print(t[1])"
   ]
  },
  {
   "cell_type": "code",
   "execution_count": 10,
   "id": "f67e3d30-babe-4897-ac3d-995e0b250bee",
   "metadata": {},
   "outputs": [
    {
     "name": "stdout",
     "output_type": "stream",
     "text": [
      "Shhivam 24 MALE\n"
     ]
    }
   ],
   "source": [
    "##unpack\n",
    "\n",
    "name,age,gender = (\"Shhivam\",24,\"MALE\")\n",
    "print(name,age,gender)"
   ]
  },
  {
   "cell_type": "code",
   "execution_count": 23,
   "id": "f1245608-2989-43c7-a747-da3ba9b8076a",
   "metadata": {},
   "outputs": [
    {
     "name": "stdin",
     "output_type": "stream",
     "text": [
      " abcd\n",
      " 123\n",
      " abc\n",
      " 1234\n"
     ]
    },
    {
     "name": "stdout",
     "output_type": "stream",
     "text": [
      "[{'abcd': '123'}, {'abc': '1234'}]\n"
     ]
    }
   ],
   "source": [
    "## dictionary\n",
    "login_info =[]\n",
    "for i in range(2):\n",
    "    u=input()\n",
    "    p=input()\n",
    "    d= {u:p}\n",
    "    login_info.append(d)\n",
    "print(login_info)\n",
    "# d= {\"username\":[\"shivam_449\",\"Utkarsh\"], \"password\": \"Lucknow@4G\"}\n",
    "# print(d[\"shivam_449\"])"
   ]
  },
  {
   "cell_type": "code",
   "execution_count": 39,
   "id": "b42030e2-d9e3-4fb3-82d0-bb4ea73fb221",
   "metadata": {},
   "outputs": [
    {
     "name": "stdout",
     "output_type": "stream",
     "text": [
      "utkarsh\n",
      "123455\n",
      "23\n",
      "python\n",
      "{'name': 'utkarsh', 'mobile': 123455, 'age': 23, (23,): 'python', 'add': 'indira nagar'}\n"
     ]
    }
   ],
   "source": [
    "d=dict({\n",
    "    \"name\":\"utkarsh\",\n",
    "    \"mobile\":123455,\n",
    "    \"age\": 23,\n",
    "    (23,):\"python\"\n",
    "})\n",
    "# print(d.keys)\n",
    "for i in d.values():\n",
    "    print(i)\n",
    "\n",
    "d[\"add\"] = \"indira nagar\"\n",
    "print(d)\n"
   ]
  },
  {
   "cell_type": "code",
   "execution_count": 40,
   "id": "8590ede7-087d-4aa7-af29-b8ce005d9bc7",
   "metadata": {},
   "outputs": [
    {
     "name": "stdout",
     "output_type": "stream",
     "text": [
      "5\n"
     ]
    }
   ],
   "source": [
    "fruit = {\n",
    "    \"banana\":5,\n",
    "    \"apple\":6,\n",
    "    \"grapes\":9,\n",
    "    \"guava\":12\n",
    "}\n",
    "print(fruit[\"banana\"])"
   ]
  },
  {
   "cell_type": "code",
   "execution_count": 8,
   "id": "bc68951e-29fd-4c91-829b-1ff358b27640",
   "metadata": {},
   "outputs": [
    {
     "name": "stdout",
     "output_type": "stream",
     "text": [
      "[5, 1, 7]\n"
     ]
    }
   ],
   "source": [
    "l= [2,4,5,8,0,1,7]\n",
    "# print([i for i in l if i%2==0])\n",
    "# l1=[]\n",
    "# for i in l:\n",
    "#     if(i%2==0):\n",
    "#         l1.append(i)\n",
    "# print(l1)\n",
    "\n",
    "l=list(filter(lambda x: x%2!=0, l))\n",
    "print(l)"
   ]
  },
  {
   "cell_type": "code",
   "execution_count": 6,
   "id": "14d1618d-55d4-41f2-abf4-cc91e3ef0347",
   "metadata": {},
   "outputs": [
    {
     "data": {
      "text/plain": [
       "[8, 64, 125, 512, 0, 1, 343]"
      ]
     },
     "execution_count": 6,
     "metadata": {},
     "output_type": "execute_result"
    }
   ],
   "source": [
    "l= [2,4,5,8,0,1,7]\n",
    "\n",
    "list(map( lambda x: x**3, l))"
   ]
  },
  {
   "cell_type": "code",
   "execution_count": 15,
   "id": "f64dea0c-9fb3-4886-a43b-ec132e85f75a",
   "metadata": {},
   "outputs": [
    {
     "name": "stdout",
     "output_type": "stream",
     "text": [
      "user abc\n",
      "password 12345\n",
      "name coding_blocks\n",
      "None\n"
     ]
    },
    {
     "ename": "KeyError",
     "evalue": "'hi'",
     "output_type": "error",
     "traceback": [
      "\u001b[1;31m---------------------------------------------------------------------------\u001b[0m",
      "\u001b[1;31mKeyError\u001b[0m                                  Traceback (most recent call last)",
      "Cell \u001b[1;32mIn[15], line 8\u001b[0m\n\u001b[0;32m      5\u001b[0m     \u001b[38;5;28mprint\u001b[39m(k, \u001b[38;5;28mdict\u001b[39m\u001b[38;5;241m.\u001b[39mget(k)) \u001b[38;5;66;03m## dict[k]\u001b[39;00m\n\u001b[0;32m      7\u001b[0m \u001b[38;5;28mprint\u001b[39m(\u001b[38;5;28mdict\u001b[39m\u001b[38;5;241m.\u001b[39mget(\u001b[38;5;124m\"\u001b[39m\u001b[38;5;124mhi\u001b[39m\u001b[38;5;124m\"\u001b[39m))\n\u001b[1;32m----> 8\u001b[0m \u001b[38;5;28mprint\u001b[39m(\u001b[38;5;28;43mdict\u001b[39;49m\u001b[43m[\u001b[49m\u001b[38;5;124;43m\"\u001b[39;49m\u001b[38;5;124;43mhi\u001b[39;49m\u001b[38;5;124;43m\"\u001b[39;49m\u001b[43m]\u001b[49m)\n",
      "\u001b[1;31mKeyError\u001b[0m: 'hi'"
     ]
    }
   ],
   "source": [
    "dict = {\"user\":\"abc\",\n",
    "       \"password\":12345,\n",
    "       \"name\":\"coding_blocks\"}\n",
    "for k in dict.keys():\n",
    "    print(k, dict.get(k)) ## dict[k]\n",
    "\n",
    "print(dict.get(\"hi\"))\n",
    "print(dict[\"hi\"])"
   ]
  },
  {
   "cell_type": "code",
   "execution_count": 17,
   "id": "69ebce10-0421-48e9-b24a-913715d56323",
   "metadata": {},
   "outputs": [
    {
     "name": "stdout",
     "output_type": "stream",
     "text": [
      "3 8\n"
     ]
    }
   ],
   "source": [
    "l = [[1,2,3],\n",
    "    [4,5,6],\n",
    "    [7,8,9]]\n",
    "print(l[0][2], l[2][1])"
   ]
  },
  {
   "cell_type": "code",
   "execution_count": 26,
   "id": "02374ed7-c4e0-4a65-94c7-7849ac7f8d2e",
   "metadata": {},
   "outputs": [
    {
     "name": "stdout",
     "output_type": "stream",
     "text": [
      "1 2 3 \n",
      "4 5 6 \n",
      "7 8 9 \n"
     ]
    }
   ],
   "source": [
    "for j in range(len(l)):\n",
    "    for i in range(len(l[j])):\n",
    "        print(l[j][i], end=\" \")\n",
    "    print()"
   ]
  },
  {
   "cell_type": "code",
   "execution_count": 30,
   "id": "23fee37a-044a-4306-ba9f-f65bb535e926",
   "metadata": {},
   "outputs": [
    {
     "data": {
      "text/plain": [
       "[1, 2, 3, 4, 5, 6, 7, 8, 9]"
      ]
     },
     "execution_count": 30,
     "metadata": {},
     "output_type": "execute_result"
    }
   ],
   "source": [
    "[ l[i][j] for i in range(len(l[j])) for j in range(len(l)) ]"
   ]
  },
  {
   "cell_type": "code",
   "execution_count": 31,
   "id": "c91565c8-88d3-44fa-9598-e7fd52eb0ec4",
   "metadata": {},
   "outputs": [
    {
     "name": "stdout",
     "output_type": "stream",
     "text": [
      "0 coding\n",
      "1 block\n",
      "2 indira\n",
      "3 nagar\n"
     ]
    }
   ],
   "source": [
    "l1=[\"coding\", \"block\",\"indira\", \"nagar\"]\n",
    "for idx,val in enumerate(l1):\n",
    "    print(idx,val)"
   ]
  },
  {
   "cell_type": "code",
   "execution_count": 33,
   "id": "6aa01b03-c605-4095-af31-7d258bf5a1b3",
   "metadata": {},
   "outputs": [
    {
     "name": "stdout",
     "output_type": "stream",
     "text": [
      "[(1, 7), (3, 2), (5, 9), (8, 1), (9, 5)]\n"
     ]
    }
   ],
   "source": [
    "x= [1,3,5,8,9]\n",
    "y= [7,2,9,1,5]\n",
    "##zip function\n",
    "\n",
    "cord = [(i,j) for i,j in zip(x,y)]\n",
    "print(cord)\n",
    "    \n"
   ]
  },
  {
   "cell_type": "code",
   "execution_count": null,
   "id": "5bad7281-d7a1-423e-8c31-df0eab1775a5",
   "metadata": {},
   "outputs": [],
   "source": []
  }
 ],
 "metadata": {
  "kernelspec": {
   "display_name": "Python 3 (ipykernel)",
   "language": "python",
   "name": "python3"
  },
  "language_info": {
   "codemirror_mode": {
    "name": "ipython",
    "version": 3
   },
   "file_extension": ".py",
   "mimetype": "text/x-python",
   "name": "python",
   "nbconvert_exporter": "python",
   "pygments_lexer": "ipython3",
   "version": "3.11.5"
  }
 },
 "nbformat": 4,
 "nbformat_minor": 5
}
