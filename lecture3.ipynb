{
 "cells": [
  {
   "cell_type": "code",
   "execution_count": 3,
   "id": "a61df4d0-9b2f-49a4-bd8a-853ce8119906",
   "metadata": {},
   "outputs": [
    {
     "name": "stdin",
     "output_type": "stream",
     "text": [
      " 3\n",
      " 27\n"
     ]
    },
    {
     "name": "stdout",
     "output_type": "stream",
     "text": [
      "hcf =  3\n"
     ]
    }
   ],
   "source": [
    "a= int(input())\n",
    "b=int(input())\n",
    "l= [a,b]\n",
    "m = min(a,b)\n",
    "while(m>=1):\n",
    "    if(l[0]%m ==0 and l[1]%m==0):\n",
    "        print(\"hcf = \",m)\n",
    "        break\n",
    "    m-=1"
   ]
  },
  {
   "cell_type": "code",
   "execution_count": 24,
   "id": "0e716e45-c5f6-4765-9932-ce24c8156a22",
   "metadata": {},
   "outputs": [
    {
     "name": "stdout",
     "output_type": "stream",
     "text": [
      "['hello', 'world', 'of', 'coding']\n",
      "['Hello', 'World', 'of', 'Coding']\n",
      "Hello World of Coding\n"
     ]
    }
   ],
   "source": [
    "s= \"__hello$world_of_coding__\"\n",
    "ns =s.strip(\"_\").replace(\"$\",\" \").replace(\"_\",\" \").split()\n",
    "print(ns)\n",
    "ns= [i.capitalize() if (i != \"of\") else i  for i in ns]\n",
    "print(ns)\n",
    "print(\" \".join(ns))"
   ]
  },
  {
   "cell_type": "code",
   "execution_count": 27,
   "id": "edb92952-f6d3-4130-865a-9e527a078e3c",
   "metadata": {},
   "outputs": [
    {
     "name": "stdout",
     "output_type": "stream",
     "text": [
      "[1, 4, 9, 16, 25]\n"
     ]
    }
   ],
   "source": [
    "##List comprehension1\n",
    "\n",
    "l= [1,2,3,4,5]\n",
    "# nl=[]\n",
    "# for i in l:\n",
    "#     nl.append(i**2)\n",
    "\n",
    "nl=[i**2 for i in l]\n",
    "print(nl)"
   ]
  },
  {
   "cell_type": "code",
   "execution_count": 29,
   "id": "2da32cac-eba3-4fef-a845-06ebb0ffe0c0",
   "metadata": {},
   "outputs": [
    {
     "name": "stdout",
     "output_type": "stream",
     "text": [
      "[2, 4]\n"
     ]
    }
   ],
   "source": [
    "##List comprehension2\n",
    "\n",
    "l= [1,2,3,4,5]\n",
    "# nl=[]\n",
    "# for i in l:\n",
    "#     if(i%2==0):\n",
    "#         nl.append(i)\n",
    "\n",
    "nl=[i for i in l if (i%2==0)]\n",
    "print(nl)"
   ]
  },
  {
   "cell_type": "code",
   "execution_count": 31,
   "id": "e7feb39b-1a85-4cb3-b782-2fe8985a9a08",
   "metadata": {},
   "outputs": [
    {
     "name": "stdout",
     "output_type": "stream",
     "text": [
      "[1, 4, 3, 16, 5]\n"
     ]
    }
   ],
   "source": [
    "##List comprehension3\n",
    "\n",
    "l= [1,2,3,4,5]\n",
    "# nl=[]\n",
    "# for i in l:\n",
    "#     if(i%2==0):\n",
    "#         nl.append(i**2)\n",
    "#     else:\n",
    "#         nl.append(i)\n",
    "        \n",
    "\n",
    "nl=[i**2 if(i%2==0) else i for i in l ]\n",
    "print(nl)"
   ]
  },
  {
   "cell_type": "code",
   "execution_count": 45,
   "id": "b0ad17f3-e5c2-418f-9585-49622854ae56",
   "metadata": {},
   "outputs": [
    {
     "name": "stdout",
     "output_type": "stream",
     "text": [
      "[12, 2, 5, 8, 0, 5, 11, 0, 15]\n",
      "[2, 5, 8, 0, 5, 11, 0, 15]\n",
      "after remove 0 [2, 5, 8, 5, 11, 0, 15]\n",
      "1\n"
     ]
    }
   ],
   "source": [
    "l=[2,5,8,0,5,11,0,18]\n",
    "l[-1] =15\n",
    "l.insert(0,12)\n",
    "print(l)\n",
    "l.pop(0)\n",
    "print(l)\n",
    "l.remove(0)\n",
    "print(\"after remove 0\",l)\n",
    "print(l.count(2))"
   ]
  },
  {
   "cell_type": "code",
   "execution_count": 49,
   "id": "a64aa8a8-f264-450c-98c7-94e2aa4d6f6d",
   "metadata": {},
   "outputs": [
    {
     "name": "stdout",
     "output_type": "stream",
     "text": [
      "500.0\n"
     ]
    }
   ],
   "source": [
    "##function\n",
    "\n",
    "def si(p,r,t=1):\n",
    "    return p*r*t/100\n",
    "\n",
    "print(si(1000,10,5))"
   ]
  },
  {
   "cell_type": "code",
   "execution_count": 57,
   "id": "30eb27b3-56c9-4689-827c-b9ae42c4f557",
   "metadata": {},
   "outputs": [
    {
     "name": "stdout",
     "output_type": "stream",
     "text": [
      "2 4\n",
      "29\n"
     ]
    }
   ],
   "source": [
    "def sum(*l):\n",
    "    # print(l[0],l[1])\n",
    "    s=0\n",
    "    for i in l:\n",
    "        s+=i\n",
    "    return s\n",
    "print(sum(2,4,8,5,10))\n",
    "\n"
   ]
  },
  {
   "cell_type": "code",
   "execution_count": 60,
   "id": "69b20349-c216-438e-b2a1-bf07b5291ecb",
   "metadata": {},
   "outputs": [
    {
     "name": "stdout",
     "output_type": "stream",
     "text": [
      "[11, 10, 9, 5, 3]\n"
     ]
    }
   ],
   "source": [
    "l=[5,3,9,10,11]\n",
    "l.sort(reverse=True)\n",
    "print(l)"
   ]
  },
  {
   "cell_type": "code",
   "execution_count": 69,
   "id": "f01fc975-9dc0-46c1-a1a1-0517dbee9304",
   "metadata": {},
   "outputs": [
    {
     "name": "stdout",
     "output_type": "stream",
     "text": [
      "[('Ram', 20), ('Sita', 19), ('Shyam', 15)]\n"
     ]
    }
   ],
   "source": [
    "def my_fun(index):\n",
    "    return index[1]\n",
    "#lambda function is a oneliner fun\n",
    "compare = lambda item: item[1]\n",
    "l=[(\"Ram\",20),(\"Shyam\",15),(\"Sita\",19)]\n",
    "l.sort(key=compare, reverse=True)\n",
    "print(l)"
   ]
  },
  {
   "cell_type": "code",
   "execution_count": 80,
   "id": "6bfafcd2-abf5-46d8-b11f-2ebdadc0c043",
   "metadata": {},
   "outputs": [
    {
     "name": "stdout",
     "output_type": "stream",
     "text": [
      "(4.0, 5.0, 3.0, 10.0, 15.0)\n"
     ]
    }
   ],
   "source": [
    "import math\n",
    "ls=[16,25,9,100,225]\n",
    "m= tuple(map(lambda x:math.sqrt(x),ls))\n",
    "print(m)"
   ]
  },
  {
   "cell_type": "code",
   "execution_count": null,
   "id": "3a2a035e-1dc0-4a48-b38c-158b21dd6337",
   "metadata": {},
   "outputs": [],
   "source": []
  }
 ],
 "metadata": {
  "kernelspec": {
   "display_name": "Python 3 (ipykernel)",
   "language": "python",
   "name": "python3"
  },
  "language_info": {
   "codemirror_mode": {
    "name": "ipython",
    "version": 3
   },
   "file_extension": ".py",
   "mimetype": "text/x-python",
   "name": "python",
   "nbconvert_exporter": "python",
   "pygments_lexer": "ipython3",
   "version": "3.11.5"
  }
 },
 "nbformat": 4,
 "nbformat_minor": 5
}
