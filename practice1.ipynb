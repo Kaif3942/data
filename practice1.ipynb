{
 "cells": [
  {
   "cell_type": "code",
   "execution_count": 1,
   "id": "4026f820-3e50-49b5-94a7-fce2b9c9b724",
   "metadata": {},
   "outputs": [
    {
     "name": "stdout",
     "output_type": "stream",
     "text": [
      "k\n"
     ]
    }
   ],
   "source": [
    "nameList = ['Harsh', 'Pratik', 'Bob', 'Dhruv'] \n",
    "print (nameList[1][-1])\n"
   ]
  },
  {
   "cell_type": "code",
   "execution_count": 11,
   "id": "5b6ae5b3-fc53-488a-bc13-b2f168897619",
   "metadata": {},
   "outputs": [
    {
     "name": "stdout",
     "output_type": "stream",
     "text": [
      "5\n"
     ]
    }
   ],
   "source": [
    "def addToList(listcontainer): \n",
    "    listcontainer += [10] \n",
    "mylistContainer = [10, 20, 30, 40] \n",
    "addToList(mylistContainer) \n",
    "print (len(mylistContainer))"
   ]
  },
  {
   "cell_type": "code",
   "execution_count": 12,
   "id": "966f7a5b-596d-4cdb-9da3-c79efe582ef9",
   "metadata": {},
   "outputs": [
    {
     "name": "stdout",
     "output_type": "stream",
     "text": [
      "['Code', 'Quiz', 'Practice', 'Contribute']\n",
      "['Code', 'Quiz', 'Practice', 'Contribute']\n",
      "['Learn', 'Mcq', 'Practice', 'Contribute']\n",
      "12\n"
     ]
    }
   ],
   "source": [
    "check1 = ['Learn', 'Quiz', 'Practice', 'Contribute'] \n",
    "check2 = check1 \n",
    "check3 = check1[:] \n",
    " \n",
    "check2[0] = 'Code'\n",
    "check3[1] = 'Mcq'\n",
    " \n",
    "count = 0\n",
    "for c in (check1, check2, check3): \n",
    "    print(c)\n",
    "    if c[0] == 'Code': \n",
    "        count += 1\n",
    "    if c[1] == 'Mcq': \n",
    "        count += 10\n",
    " \n",
    "print (count)"
   ]
  },
  {
   "cell_type": "code",
   "execution_count": 10,
   "id": "73b677a0-a10d-4c47-8c51-3eb0742d6891",
   "metadata": {},
   "outputs": [
    {
     "name": "stdout",
     "output_type": "stream",
     "text": [
      "[0, 2, 3, 4, 5]\n"
     ]
    }
   ],
   "source": [
    "list1 = [1, 2, 3, 4, 5] \n",
    "list2 = list1 \n",
    "list2[0] = 0 \n",
    " \n",
    "print( list1)"
   ]
  },
  {
   "cell_type": "code",
   "execution_count": 14,
   "id": "ba00c3fd-441d-4171-ac09-e0849c393176",
   "metadata": {},
   "outputs": [
    {
     "name": "stdout",
     "output_type": "stream",
     "text": [
      "[5, 2, 3, 4] [5, 2, 3, 4] [1, 2, 3, 4] [5, 2, 3, 4]\n"
     ]
    }
   ],
   "source": [
    "L1 = [1, 2, 3, 4] \n",
    "L2 = L1 \n",
    "L3 = L1.copy() \n",
    "L4 = L1\n",
    "L1[0] = 5 \n",
    "print(L1, L2, L3, L4) "
   ]
  },
  {
   "cell_type": "code",
   "execution_count": 18,
   "id": "74694456-3eaf-4a03-b37e-ae9ff16b3cc9",
   "metadata": {},
   "outputs": [
    {
     "name": "stdout",
     "output_type": "stream",
     "text": [
      "[3996, 4004, 4028, 4032]\n",
      "[[1998, 2002, 2014, 2016], [1998, 2002, 2014, 2016]]\n"
     ]
    }
   ],
   "source": [
    "list1 = [1998, 2002] \n",
    "list2 = [2014, 2016] \n",
    "print(list(map(lambda x:x*2,list1+list2)))\n",
    "print ([list1 + list2]*2)"
   ]
  },
  {
   "cell_type": "code",
   "execution_count": null,
   "id": "e6270520-91f8-4cda-a156-bee006e7648f",
   "metadata": {},
   "outputs": [],
   "source": [
    "list1 = ['physics', 'chemistry', 1997, 2000] \n",
    "print (list1[1][-1])"
   ]
  },
  {
   "cell_type": "code",
   "execution_count": 19,
   "id": "4643d2f1-511a-44a1-b236-a25835c4d6d1",
   "metadata": {},
   "outputs": [
    {
     "name": "stdout",
     "output_type": "stream",
     "text": [
      "[9, 18, 27, 36, 45]\n"
     ]
    }
   ],
   "source": [
    "d1 = [10, 20, 30, 40, 50] \n",
    "d2 = [1, 2, 3, 4, 5] \n",
    " \n",
    " \n",
    "subtracted = list()\n",
    "for d1, d2 in zip(d1, d2):\n",
    "    item = d1 -d2\n",
    "    subtracted.append(item)\n",
    " \n",
    "print(subtracted)"
   ]
  },
  {
   "cell_type": "code",
   "execution_count": 21,
   "id": "cbf0a0c2-3dc2-4b8f-a322-80ab88e423e7",
   "metadata": {},
   "outputs": [
    {
     "name": "stdout",
     "output_type": "stream",
     "text": [
      "[]\n"
     ]
    }
   ],
   "source": [
    "list = ['a', 'b', 'c'] * -3\n",
    "print(list)"
   ]
  },
  {
   "cell_type": "code",
   "execution_count": 22,
   "id": "8873e0e1-eab0-4159-b201-d60a6840bba9",
   "metadata": {},
   "outputs": [
    {
     "name": "stdout",
     "output_type": "stream",
     "text": [
      "[[[2, 3, 9]], [[2, 3, 9]], [[2, 3, 9]]]\n"
     ]
    }
   ],
   "source": [
    "data = [2, 3, 9] \n",
    "temp = [[x for x in[data]] for x in range(3)] \n",
    "print (temp)"
   ]
  },
  {
   "cell_type": "code",
   "execution_count": 23,
   "id": "db91b3b3-1152-484e-b04a-876cd0f90885",
   "metadata": {},
   "outputs": [
    {
     "name": "stdout",
     "output_type": "stream",
     "text": [
      "[0, 2, 4]\n"
     ]
    }
   ],
   "source": [
    "data = [x for x in range(5)] \n",
    "temp = [x for x in range(7) if x in data and x%2==0] \n",
    "print(temp) "
   ]
  },
  {
   "cell_type": "code",
   "execution_count": 24,
   "id": "427b8073-f9c7-411e-b10e-0e4351bd68cb",
   "metadata": {},
   "outputs": [
    {
     "name": "stdout",
     "output_type": "stream",
     "text": [
      "[2, 2, 6, 4, 4]\n"
     ]
    }
   ],
   "source": [
    "temp = 'coding 22536 for 445 world'\n",
    "data = [x for x in (int(x) for x in temp if x.isdigit()) if x%2 == 0] \n",
    "print(data)"
   ]
  },
  {
   "cell_type": "code",
   "execution_count": 25,
   "id": "780e87e6-c7ae-4414-a4b5-7064378dda11",
   "metadata": {},
   "outputs": [
    {
     "name": "stdout",
     "output_type": "stream",
     "text": [
      "11\n"
     ]
    }
   ],
   "source": [
    "L1 = []\n",
    "L1.append([1, [2, 3], 4]) \n",
    "L1.extend([7, 8, 9]) \n",
    "print(L1[0][1][1] + L1[2]) "
   ]
  },
  {
   "cell_type": "code",
   "execution_count": 26,
   "id": "d94d4605-6e9e-4acb-a92c-27a683cd9089",
   "metadata": {},
   "outputs": [
    {
     "name": "stdout",
     "output_type": "stream",
     "text": [
      "2.33 CBNO\n"
     ]
    }
   ],
   "source": [
    "L1 = [1, 1.33, 'CB', 0, 'NO', None, 'G', True] \n",
    "val1, val2 = 0,'' \n",
    "for x in L1: \n",
    "    if(type(x) == int or type(x) == float): \n",
    "        val1 += x \n",
    "    elif(type(x) == str): \n",
    "        val2 += x \n",
    "    else: \n",
    "        break\n",
    "print(val1, val2) "
   ]
  },
  {
   "cell_type": "markdown",
   "id": "2afca689-824e-43af-9c7d-238903a5bb8c",
   "metadata": {},
   "source": [
    "Dictionary"
   ]
  },
  {
   "cell_type": "code",
   "execution_count": 27,
   "id": "f6674f8f-62ba-4063-bca0-4f8f12b55d44",
   "metadata": {},
   "outputs": [
    {
     "name": "stdout",
     "output_type": "stream",
     "text": [
      "{0: 0, 7: 0, 1: 1, 8: 1}\n"
     ]
    }
   ],
   "source": [
    "D = dict() \n",
    "for x in enumerate(range(2)): \n",
    "    D[x[0]] = x[1] \n",
    "    D[x[1]+7] = x[0] \n",
    "print(D) "
   ]
  },
  {
   "cell_type": "code",
   "execution_count": 28,
   "id": "0ed66b6b-5b42-4f6b-8259-ba57f86904c0",
   "metadata": {},
   "outputs": [
    {
     "name": "stdout",
     "output_type": "stream",
     "text": [
      "3\n"
     ]
    }
   ],
   "source": [
    "D = {1 : 1, 2 : '2', '1' : 1, '2' : 3} \n",
    "D['1'] = 2\n",
    "print(D[D[D[str(D[1])]]]) "
   ]
  },
  {
   "cell_type": "code",
   "execution_count": 34,
   "id": "e1dd76c9-3976-4076-99a7-e2a8e7583001",
   "metadata": {},
   "outputs": [
    {
     "name": "stdout",
     "output_type": "stream",
     "text": [
      "E "
     ]
    },
    {
     "ename": "KeyError",
     "evalue": "2",
     "output_type": "error",
     "traceback": [
      "\u001b[1;31m---------------------------------------------------------------------------\u001b[0m",
      "\u001b[1;31mKeyError\u001b[0m                                  Traceback (most recent call last)",
      "Cell \u001b[1;32mIn[34], line 3\u001b[0m\n\u001b[0;32m      1\u001b[0m D \u001b[38;5;241m=\u001b[39m {\u001b[38;5;241m1\u001b[39m : {\u001b[38;5;124m'\u001b[39m\u001b[38;5;124mA\u001b[39m\u001b[38;5;124m'\u001b[39m : {\u001b[38;5;241m1\u001b[39m : \u001b[38;5;124m\"\u001b[39m\u001b[38;5;124mA\u001b[39m\u001b[38;5;124m\"\u001b[39m}, \u001b[38;5;241m2\u001b[39m : \u001b[38;5;124m\"\u001b[39m\u001b[38;5;124mB\u001b[39m\u001b[38;5;124m\"\u001b[39m}, \u001b[38;5;241m3\u001b[39m :\u001b[38;5;124m\"\u001b[39m\u001b[38;5;124mC\u001b[39m\u001b[38;5;124m\"\u001b[39m, \u001b[38;5;124m'\u001b[39m\u001b[38;5;124mB\u001b[39m\u001b[38;5;124m'\u001b[39m : \u001b[38;5;124m\"\u001b[39m\u001b[38;5;124mD\u001b[39m\u001b[38;5;124m\"\u001b[39m, \u001b[38;5;124m\"\u001b[39m\u001b[38;5;124mD\u001b[39m\u001b[38;5;124m\"\u001b[39m: \u001b[38;5;124m'\u001b[39m\u001b[38;5;124mE\u001b[39m\u001b[38;5;124m'\u001b[39m} \n\u001b[0;32m      2\u001b[0m \u001b[38;5;28mprint\u001b[39m(D[D[D[\u001b[38;5;241m1\u001b[39m][\u001b[38;5;241m2\u001b[39m]]], end \u001b[38;5;241m=\u001b[39m \u001b[38;5;124m\"\u001b[39m\u001b[38;5;124m \u001b[39m\u001b[38;5;124m\"\u001b[39m) \n\u001b[1;32m----> 3\u001b[0m \u001b[38;5;28mprint\u001b[39m(D[\u001b[43mD\u001b[49m\u001b[43m[\u001b[49m\u001b[38;5;241;43m1\u001b[39;49m\u001b[43m]\u001b[49m\u001b[43m[\u001b[49m\u001b[38;5;124;43m\"\u001b[39;49m\u001b[38;5;124;43mA\u001b[39;49m\u001b[38;5;124;43m\"\u001b[39;49m\u001b[43m]\u001b[49m\u001b[43m[\u001b[49m\u001b[38;5;241;43m2\u001b[39;49m\u001b[43m]\u001b[49m]) \n",
      "\u001b[1;31mKeyError\u001b[0m: 2"
     ]
    }
   ],
   "source": [
    "D = {1 : {'A' : {1 : \"A\"}, 2 : \"B\"}, 3 :\"C\", 'B' : \"D\", \"D\": 'E'} \n",
    "print(D[D[D[1][2]]], end = \" \") \n",
    "print(D[D[1][\"A\"][2]]) "
   ]
  },
  {
   "cell_type": "code",
   "execution_count": 35,
   "id": "9594acbe-6736-4f19-8ff8-609057c41075",
   "metadata": {},
   "outputs": [
    {
     "name": "stdout",
     "output_type": "stream",
     "text": [
      "{0: 1, 1: 1, 2: 1}\n"
     ]
    }
   ],
   "source": [
    "D = dict() \n",
    "for i in range (3): \n",
    "    for j in range(2): \n",
    "        D[i] = j \n",
    "print(D) "
   ]
  },
  {
   "cell_type": "code",
   "execution_count": 36,
   "id": "370a994a-5d13-4f25-bac7-e1e292618337",
   "metadata": {},
   "outputs": [
    {
     "name": "stdout",
     "output_type": "stream",
     "text": [
      "[1, 2, 3, 4] ((4, 6, 8), 10)\n"
     ]
    }
   ],
   "source": [
    "D = {1 : [1, 2, 3], 2: (4, 6, 8)} \n",
    "D[1].append(4) \n",
    "print(D[1], end = \" \") \n",
    "L = [D[2]]\n",
    "L.append(10) \n",
    "D[2] = tuple(L) \n",
    "print(D[2]) "
   ]
  },
  {
   "cell_type": "code",
   "execution_count": 37,
   "id": "e9310b03-d51d-4161-8867-67197c4c72af",
   "metadata": {},
   "outputs": [
    {
     "name": "stdout",
     "output_type": "stream",
     "text": [
      "{0: 0, 1: 1, 2: 4, 3: 9, 4: 16, 5: 25}\n"
     ]
    }
   ],
   "source": [
    "a = {i: i * i for i in range(6)} \n",
    "print (a) "
   ]
  },
  {
   "cell_type": "code",
   "execution_count": 38,
   "id": "65df32ee-fec5-4d2a-a109-d2224a1a39bd",
   "metadata": {},
   "outputs": [
    {
     "name": "stdout",
     "output_type": "stream",
     "text": [
      "CB facebook "
     ]
    },
    {
     "ename": "NameError",
     "evalue": "name 'dictionary' is not defined",
     "output_type": "error",
     "traceback": [
      "\u001b[1;31m---------------------------------------------------------------------------\u001b[0m",
      "\u001b[1;31mNameError\u001b[0m                                 Traceback (most recent call last)",
      "Cell \u001b[1;32mIn[38], line 12\u001b[0m\n\u001b[0;32m     10\u001b[0m     \u001b[38;5;28mprint\u001b[39m(key) \n\u001b[0;32m     11\u001b[0m \u001b[38;5;28;01mdel\u001b[39;00m dictionary; \n\u001b[1;32m---> 12\u001b[0m \u001b[38;5;28;01mfor\u001b[39;00m key, values \u001b[38;5;129;01min\u001b[39;00m \u001b[43mdictionary\u001b[49m\u001b[38;5;241m.\u001b[39mitems(): \n\u001b[0;32m     13\u001b[0m     \u001b[38;5;28mprint\u001b[39m(key) \n",
      "\u001b[1;31mNameError\u001b[0m: name 'dictionary' is not defined"
     ]
    }
   ],
   "source": [
    "dictionary = {'CB' : 'codingblocks.com', \n",
    "            'google' : 'google.com', \n",
    "            'facebook' : 'facebook.com'\n",
    "            } \n",
    "del dictionary['google']; \n",
    "for key, values in dictionary.items(): \n",
    "    print(key, end=\" \") \n",
    "dictionary.clear(); \n",
    "for key, values in dictionary.items(): \n",
    "    print(key) \n",
    "del dictionary; \n",
    "for key, values in dictionary.items(): \n",
    "    print(key) "
   ]
  },
  {
   "cell_type": "code",
   "execution_count": 39,
   "id": "ca169f0f-f9a9-4935-aba0-927733a326e5",
   "metadata": {},
   "outputs": [
    {
     "name": "stdout",
     "output_type": "stream",
     "text": [
      "Google 1 Facebook 2 Microsoft 2 CB 1 Youtube 3 "
     ]
    }
   ],
   "source": [
    "dictionary1 = {'Google' : 1, \n",
    "            'Facebook' : 2, \n",
    "            'Microsoft' : 3\n",
    "            } \n",
    "dictionary2 = {'CB' : 1, \n",
    "            'Microsoft' : 2, \n",
    "            'Youtube' : 3\n",
    "            } \n",
    "dictionary1.update(dictionary2); \n",
    "for key, values in dictionary1.items(): \n",
    "    print(key, values , end=\" \") "
   ]
  },
  {
   "cell_type": "code",
   "execution_count": 40,
   "id": "58cbbeca-b433-4fe8-bd21-eaf8b25d6541",
   "metadata": {},
   "outputs": [
    {
     "name": "stdout",
     "output_type": "stream",
     "text": [
      "(1, 2, 4)\n",
      "(4, 2, 1)\n",
      "(1, 2)\n",
      "33\n"
     ]
    }
   ],
   "source": [
    "numberGames = {} \n",
    "numberGames[(1,2,4)] = 8\n",
    "numberGames[(4,2,1)] = 10\n",
    "numberGames[(1,2)] = 12\n",
    " \n",
    "sum = 0\n",
    "for k in numberGames: \n",
    "    sum += numberGames[k] \n",
    " \n",
    "print (len(numberGames) + sum)"
   ]
  },
  {
   "cell_type": "code",
   "execution_count": 41,
   "id": "c8479cef-ca62-4c6e-9fc0-95dc89ce8483",
   "metadata": {},
   "outputs": [
    {
     "name": "stdout",
     "output_type": "stream",
     "text": [
      "4\n"
     ]
    }
   ],
   "source": [
    "a = {} \n",
    "a[1] = 1\n",
    "a['1'] = 2\n",
    "a[1]= a[1]+1\n",
    "count = 0\n",
    "for i in a: \n",
    "    count += a[i] \n",
    "print(count)"
   ]
  },
  {
   "cell_type": "code",
   "execution_count": 42,
   "id": "d0c3f7ce-ecb3-4ed7-b3c5-073593eb6dbf",
   "metadata": {},
   "outputs": [
    {
     "name": "stdout",
     "output_type": "stream",
     "text": [
      "2\n"
     ]
    }
   ],
   "source": [
    "test = {1:'A', 2:'B', 3:'C'} \n",
    "del test[1] \n",
    "test[1] = 'D'\n",
    "del test[2] \n",
    "print(len(test)) "
   ]
  },
  {
   "cell_type": "markdown",
   "id": "a6c607fa-1d6d-4c21-8c8f-d623ef6f481d",
   "metadata": {},
   "source": [
    "String"
   ]
  },
  {
   "cell_type": "code",
   "execution_count": 43,
   "id": "fc9a7da0-5053-43c3-966b-4f40ddb53972",
   "metadata": {},
   "outputs": [
    {
     "name": "stdout",
     "output_type": "stream",
     "text": [
      "c, b and a abracadabra\n"
     ]
    }
   ],
   "source": [
    "str1 = '{2}, {1} and {0}'.format('a', 'b', 'c') \n",
    "str2 = '{0}{1}{0}'.format('abra', 'cad') \n",
    "print(str1, str2)"
   ]
  },
  {
   "cell_type": "code",
   "execution_count": 44,
   "id": "44ffabb4-78c9-4d49-af74-040d0aad9135",
   "metadata": {},
   "outputs": [
    {
     "name": "stdout",
     "output_type": "stream",
     "text": [
      "2.0000   2 -8 3.77\n"
     ]
    }
   ],
   "source": [
    "a = 2\n",
    "b = '3.77'\n",
    "c = -8\n",
    "str1 = '{0:.4f} {0:3d} {2} {1}'.format(a, b, c) \n",
    "print(str1)"
   ]
  },
  {
   "cell_type": "code",
   "execution_count": 45,
   "id": "824ac074-2e3c-4e48-93a5-3723ef7f3b23",
   "metadata": {},
   "outputs": [],
   "source": [
    "my_string = \"coding blocks\"\n",
    "i = \"h\"\n",
    "while i in my_string: \n",
    "    print(i, end =\" \") "
   ]
  },
  {
   "cell_type": "code",
   "execution_count": 46,
   "id": "69fe45b5-7f76-4a8d-96be-0746f741430d",
   "metadata": {},
   "outputs": [
    {
     "ename": "TypeError",
     "evalue": "'int' object is not iterable",
     "output_type": "error",
     "traceback": [
      "\u001b[1;31m---------------------------------------------------------------------------\u001b[0m",
      "\u001b[1;31mTypeError\u001b[0m                                 Traceback (most recent call last)",
      "Cell \u001b[1;32mIn[46], line 2\u001b[0m\n\u001b[0;32m      1\u001b[0m x \u001b[38;5;241m=\u001b[39m \u001b[38;5;241m123\u001b[39m\n\u001b[1;32m----> 2\u001b[0m \u001b[38;5;28;43;01mfor\u001b[39;49;00m\u001b[43m \u001b[49m\u001b[43mi\u001b[49m\u001b[43m \u001b[49m\u001b[38;5;129;43;01min\u001b[39;49;00m\u001b[43m \u001b[49m\u001b[43mx\u001b[49m\u001b[43m:\u001b[49m\u001b[43m \u001b[49m\n\u001b[0;32m      3\u001b[0m \u001b[43m    \u001b[49m\u001b[38;5;28;43mprint\u001b[39;49m\u001b[43m(\u001b[49m\u001b[43mi\u001b[49m\u001b[43m,\u001b[49m\u001b[43m \u001b[49m\u001b[43mend\u001b[49m\u001b[38;5;241;43m=\u001b[39;49m\u001b[38;5;124;43m\"\u001b[39;49m\u001b[38;5;124;43m \u001b[39;49m\u001b[38;5;124;43m\"\u001b[39;49m\u001b[43m)\u001b[49m\n",
      "\u001b[1;31mTypeError\u001b[0m: 'int' object is not iterable"
     ]
    }
   ],
   "source": [
    "x = 123\n",
    "for i in x: \n",
    "    print(i, end=\" \")"
   ]
  },
  {
   "cell_type": "code",
   "execution_count": null,
   "id": "c1b37ed2-ee12-433f-b626-1d3d787ba6a0",
   "metadata": {},
   "outputs": [],
   "source": []
  }
 ],
 "metadata": {
  "kernelspec": {
   "display_name": "Python 3 (ipykernel)",
   "language": "python",
   "name": "python3"
  },
  "language_info": {
   "codemirror_mode": {
    "name": "ipython",
    "version": 3
   },
   "file_extension": ".py",
   "mimetype": "text/x-python",
   "name": "python",
   "nbconvert_exporter": "python",
   "pygments_lexer": "ipython3",
   "version": "3.11.5"
  }
 },
 "nbformat": 4,
 "nbformat_minor": 5
}
