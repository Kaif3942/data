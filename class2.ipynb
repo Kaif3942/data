{
 "cells": [
  {
   "cell_type": "code",
   "execution_count": 1,
   "id": "594fc5ad-9db5-4953-bbb7-8018cb82b712",
   "metadata": {},
   "outputs": [
    {
     "name": "stdout",
     "output_type": "stream",
     "text": [
      "helo world\n"
     ]
    }
   ],
   "source": [
    "print(\"helo world\")"
   ]
  },
  {
   "cell_type": "markdown",
   "id": "c224b330-b13e-4b6b-ad70-6fead8472e71",
   "metadata": {},
   "source": [
    "a= int(input(\"Enter first number\"))\n",
    "b= int(input(\"Enter 2nd Number\"))\n",
    "print(a+b)"
   ]
  },
  {
   "cell_type": "code",
   "execution_count": 9,
   "id": "2f82e798-1429-43b9-9be1-d9dd5ce84446",
   "metadata": {},
   "outputs": [
    {
     "name": "stdout",
     "output_type": "stream",
     "text": [
      "5\n",
      "15\n",
      "32\n",
      "2\n",
      "2.5\n",
      "1\n"
     ]
    }
   ],
   "source": [
    "print(2+3)\n",
    "print(3*5)\n",
    "print(2**5)\n",
    "print(5//2)\n",
    "print(5/2)\n",
    "print(9%4)"
   ]
  },
  {
   "cell_type": "code",
   "execution_count": 14,
   "id": "17a17d56-4382-42e2-b4d9-b19e1251dbad",
   "metadata": {},
   "outputs": [
    {
     "data": {
      "text/plain": [
       "False"
      ]
     },
     "execution_count": 14,
     "metadata": {},
     "output_type": "execute_result"
    }
   ],
   "source": [
    "a= 10\n",
    "b=10\n",
    "a!=b"
   ]
  },
  {
   "cell_type": "code",
   "execution_count": 16,
   "id": "91f8ae05-94ff-4112-a981-a47db262bad2",
   "metadata": {},
   "outputs": [
    {
     "name": "stdin",
     "output_type": "stream",
     "text": [
      "Enter grade 59\n"
     ]
    },
    {
     "name": "stdout",
     "output_type": "stream",
     "text": [
      "C grade\n"
     ]
    }
   ],
   "source": [
    "grade = int(input(\"Enter grade\"))\n",
    "\n",
    "if(grade >90):\n",
    "    print(\"A+ grade\")\n",
    "elif(grade >60):\n",
    "    print(\"B+ grade\")\n",
    "else:\n",
    "    print(\"C grade\")\n"
   ]
  },
  {
   "cell_type": "code",
   "execution_count": 18,
   "id": "83dbc0c8-de57-47a9-ba6a-5851f0c8465b",
   "metadata": {},
   "outputs": [
    {
     "name": "stdin",
     "output_type": "stream",
     "text": [
      "Enter a number 10\n"
     ]
    },
    {
     "name": "stdout",
     "output_type": "stream",
     "text": [
      "Even\n"
     ]
    }
   ],
   "source": [
    "a = int(input(\"Enter a number\"))\n",
    "if(a%2==0):\n",
    "    print(\"Even\")\n",
    "else:\n",
    "    print(\"Odd\")"
   ]
  },
  {
   "cell_type": "code",
   "execution_count": 19,
   "id": "a45dc866-1e11-45cf-aa38-b53488625bcd",
   "metadata": {},
   "outputs": [
    {
     "name": "stdout",
     "output_type": "stream",
     "text": [
      "2\n",
      "4\n",
      "6\n",
      "8\n",
      "10\n",
      "12\n",
      "14\n",
      "16\n",
      "18\n",
      "20\n"
     ]
    }
   ],
   "source": [
    "start =2\n",
    "while(start<=20):\n",
    "    print(start)\n",
    "    start+=2"
   ]
  },
  {
   "cell_type": "code",
   "execution_count": 25,
   "id": "184dce01-821c-42e4-b97a-ccb9450fcee7",
   "metadata": {},
   "outputs": [
    {
     "name": "stdin",
     "output_type": "stream",
     "text": [
      "Enter a number 23\n"
     ]
    },
    {
     "name": "stdout",
     "output_type": "stream",
     "text": [
      "2\n",
      "Prime\n"
     ]
    }
   ],
   "source": [
    "num = int(input(\"Enter a number\"))\n",
    "start =1\n",
    "count_div =0\n",
    "while(start <= num):\n",
    "    if(num%start ==0):\n",
    "        count_div +=1\n",
    "    start +=1\n",
    "print(count_div)\n",
    "if(count_div ==2):\n",
    "    print(\"Prime\")\n",
    "else:\n",
    "    print(\"Not Prime\")"
   ]
  },
  {
   "cell_type": "code",
   "execution_count": 27,
   "id": "bad3b056-d81d-44d8-af1d-f7e456306a43",
   "metadata": {},
   "outputs": [
    {
     "name": "stdin",
     "output_type": "stream",
     "text": [
      "Enter a number 2587\n"
     ]
    },
    {
     "name": "stdout",
     "output_type": "stream",
     "text": [
      "4\n"
     ]
    }
   ],
   "source": [
    "num = int(input(\"Enter a number\"))\n",
    "start = num\n",
    "count_digit =0\n",
    "while(start >0):\n",
    "    count_digit +=1\n",
    "    start //=10\n",
    "print(count_digit)"
   ]
  },
  {
   "cell_type": "code",
   "execution_count": 29,
   "id": "515ff6c7-0259-42f0-a820-40cb0335fb7e",
   "metadata": {},
   "outputs": [
    {
     "name": "stdin",
     "output_type": "stream",
     "text": [
      "Enter first number 27\n",
      "Enter second number 15\n"
     ]
    },
    {
     "name": "stdout",
     "output_type": "stream",
     "text": [
      "3\n"
     ]
    }
   ],
   "source": [
    "a= int(input(\"Enter first number\"))\n",
    "b = int(input(\"Enter second number\"))\n",
    "start =1\n",
    "end = min(a,b)\n",
    "# if(a<b):\n",
    "#     end=a\n",
    "# else:\n",
    "#     end =b\n",
    "hcf=1\n",
    "while(start <= end):\n",
    "    if( a%start ==0 and b%start ==0):\n",
    "        hcf = start\n",
    "    start+=1\n",
    "print(hcf)"
   ]
  },
  {
   "cell_type": "code",
   "execution_count": 3,
   "id": "6b4d2741-970b-4f71-a4fa-cec3a3cee030",
   "metadata": {},
   "outputs": [
    {
     "name": "stdout",
     "output_type": "stream",
     "text": [
      "2\n",
      "5\n",
      "8\n"
     ]
    }
   ],
   "source": [
    "for i in range(2,10,3):\n",
    "    print(i)"
   ]
  },
  {
   "cell_type": "code",
   "execution_count": 24,
   "id": "c9a0b972-75ee-4dc5-90fd-3f3edb8f30a6",
   "metadata": {},
   "outputs": [
    {
     "name": "stdout",
     "output_type": "stream",
     "text": [
      "w w\n",
      "dlrow olleh\n",
      "row ol\n",
      "row ol\n"
     ]
    }
   ],
   "source": [
    "## h e l l o   w o r l  d\n",
    "## 0 1 2 3 4 5 6 7 8 9 10 \n",
    "## -11 10 9 8 7 6 5 4 3 2 1\n",
    "s=\"hello world\"\n",
    "print(s[6], s[-5])\n",
    "# for i in s[-1::-1]: # starting idx in imp, end-default = last-indx, step:default-1\n",
    "#     print(i)\n",
    "##reverse\n",
    "print(s[-1::-1])\n",
    "##print row ol\n",
    "print(s[-3:-9:-1])\n",
    "print(s[8:2:-1])"
   ]
  },
  {
   "cell_type": "code",
   "execution_count": 9,
   "id": "c56a0e92-7e05-4818-b93c-ccd1bc60c146",
   "metadata": {},
   "outputs": [
    {
     "data": {
      "text/plain": [
       "' hey,\\nhow are you?\\n'"
      ]
     },
     "execution_count": 9,
     "metadata": {},
     "output_type": "execute_result"
    }
   ],
   "source": [
    "''' hey,\n",
    "how are you?\n",
    "'''"
   ]
  },
  {
   "cell_type": "code",
   "execution_count": 31,
   "id": "57e4daa7-05d1-4036-a02e-7568fe237d64",
   "metadata": {},
   "outputs": [
    {
     "name": "stdin",
     "output_type": "stream",
     "text": [
      "Enter a string abchahab\n"
     ]
    },
    {
     "name": "stdout",
     "output_type": "stream",
     "text": [
      "False\n"
     ]
    }
   ],
   "source": [
    "# p= \"abcdcba\" ## abc asc\n",
    "p = input(\"Enter a string\")\n",
    "# print(p[0:len(p)//2] == p[-1:-1*len(p)//2:-1])\n",
    "# for i in range(len(p)//2):\n",
    "#     if(p[i] != p[len(p)-i-1]):\n",
    "#         print(False)\n",
    "#         break\n"
   ]
  },
  {
   "cell_type": "code",
   "execution_count": 34,
   "id": "fa282318-1664-46b2-95be-3ef31ab859f0",
   "metadata": {},
   "outputs": [
    {
     "name": "stdout",
     "output_type": "stream",
     "text": [
      "b'abcababwaha'\n"
     ]
    }
   ],
   "source": [
    "s= \"abcababwaha\"\n",
    "print(s.encode())"
   ]
  },
  {
   "cell_type": "code",
   "execution_count": 42,
   "id": "d5a3737b-4259-4a56-9c38-2cd02853841c",
   "metadata": {},
   "outputs": [
    {
     "name": "stdout",
     "output_type": "stream",
     "text": [
      "97\n",
      "a\n"
     ]
    }
   ],
   "source": [
    "# email = input()\n",
    "# print(email.find(\"@\"))\n",
    "print(ord('a'))\n",
    "print(chr(97))"
   ]
  },
  {
   "cell_type": "code",
   "execution_count": 2,
   "id": "0e14f3e4-d731-4dbf-acc3-f288bab9d246",
   "metadata": {},
   "outputs": [
    {
     "name": "stdin",
     "output_type": "stream",
     "text": [
      " LucknowCB5G\n"
     ]
    },
    {
     "name": "stdout",
     "output_type": "stream",
     "text": [
      "Valid Password\n"
     ]
    }
   ],
   "source": [
    "p= input()\n",
    "l = len(p) > 8\n",
    "c,s,d=False,False, False\n",
    "##capital letter ascii 65-90\n",
    "##small letter ascii 97-122\n",
    "## digit ascii 48-57\n",
    "for i in p:\n",
    "    if(ord(i)>=97 and ord(i)<=122):\n",
    "        s= True\n",
    "    elif(ord(i)>=65 and ord(i)<=90):\n",
    "        c= True\n",
    "    elif(ord(i)>=48 and ord(i)<=57):\n",
    "        d= True  \n",
    "if( l and c and s and d):\n",
    "    print(\"Valid Password\")\n",
    "else:\n",
    "    print(\"Not valid\")"
   ]
  },
  {
   "cell_type": "code",
   "execution_count": 49,
   "id": "b7fda82c-14ff-41b7-af22-25af6cc1d1d1",
   "metadata": {},
   "outputs": [
    {
     "name": "stdout",
     "output_type": "stream",
     "text": [
      "aefghbefghcefghd\n"
     ]
    }
   ],
   "source": [
    "s= 'abcd'\n",
    "s2 = 'efgh'\n",
    "# s+s2\n",
    "s2= s2.join(s)\n",
    "print(s2)\n",
    "# print(s.join(s2))"
   ]
  },
  {
   "cell_type": "code",
   "execution_count": 50,
   "id": "f8dd89a8-2556-4799-97c8-f4ea2fe2f8f2",
   "metadata": {},
   "outputs": [
    {
     "ename": "AttributeError",
     "evalue": "'list' object has no attribute 'join'",
     "output_type": "error",
     "traceback": [
      "\u001b[1;31m---------------------------------------------------------------------------\u001b[0m",
      "\u001b[1;31mAttributeError\u001b[0m                            Traceback (most recent call last)",
      "Cell \u001b[1;32mIn[50], line 2\u001b[0m\n\u001b[0;32m      1\u001b[0m s\u001b[38;5;241m=\u001b[39m [\u001b[38;5;124m'\u001b[39m\u001b[38;5;124mabc\u001b[39m\u001b[38;5;124m'\u001b[39m,\u001b[38;5;124m'\u001b[39m\u001b[38;5;124mdef\u001b[39m\u001b[38;5;124m'\u001b[39m,\u001b[38;5;124m'\u001b[39m\u001b[38;5;124mghi\u001b[39m\u001b[38;5;124m'\u001b[39m]\n\u001b[1;32m----> 2\u001b[0m \u001b[43ms\u001b[49m\u001b[38;5;241;43m.\u001b[39;49m\u001b[43mjoin\u001b[49m(\u001b[38;5;124m'\u001b[39m\u001b[38;5;124m$\u001b[39m\u001b[38;5;124m'\u001b[39m)\n",
      "\u001b[1;31mAttributeError\u001b[0m: 'list' object has no attribute 'join'"
     ]
    }
   ],
   "source": [
    "# s= ['abc','def','ghi']\n",
    "# s.join('$')"
   ]
  },
  {
   "cell_type": "code",
   "execution_count": 56,
   "id": "5b8b6333-afca-4107-a1fb-a1dea25a089d",
   "metadata": {},
   "outputs": [
    {
     "name": "stdout",
     "output_type": "stream",
     "text": [
      "____shivam\n"
     ]
    }
   ],
   "source": [
    "s= \"____shivam_____\"\n",
    "print(s.rstrip(\"_\"))"
   ]
  },
  {
   "cell_type": "code",
   "execution_count": null,
   "id": "e3a0a69c-8e1b-4316-bf56-2e3019c4fe1a",
   "metadata": {},
   "outputs": [],
   "source": []
  }
 ],
 "metadata": {
  "kernelspec": {
   "display_name": "Python 3 (ipykernel)",
   "language": "python",
   "name": "python3"
  },
  "language_info": {
   "codemirror_mode": {
    "name": "ipython",
    "version": 3
   },
   "file_extension": ".py",
   "mimetype": "text/x-python",
   "name": "python",
   "nbconvert_exporter": "python",
   "pygments_lexer": "ipython3",
   "version": "3.11.5"
  }
 },
 "nbformat": 4,
 "nbformat_minor": 5
}
