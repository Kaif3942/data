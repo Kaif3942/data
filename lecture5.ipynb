{
 "cells": [
  {
   "cell_type": "code",
   "execution_count": 2,
   "id": "b7521695-6e40-4265-b92b-13e28731734e",
   "metadata": {},
   "outputs": [
    {
     "name": "stdout",
     "output_type": "stream",
     "text": [
      "{9, 11, 5}\n",
      "{9, 11, 5}\n"
     ]
    }
   ],
   "source": [
    "s1={5,9,11,5,9}\n",
    "print(s1)\n",
    "s1.add(11)\n",
    "print(s1)"
   ]
  },
  {
   "cell_type": "markdown",
   "id": "37b8952d-cb3a-4762-87d7-71222f5c13aa",
   "metadata": {},
   "source": [
    "filter function"
   ]
  },
  {
   "cell_type": "code",
   "execution_count": 7,
   "id": "fbd53e8a-fc3a-4b76-807e-19f02f77e962",
   "metadata": {},
   "outputs": [
    {
     "name": "stdout",
     "output_type": "stream",
     "text": [
      "[12]\n"
     ]
    }
   ],
   "source": [
    "\n",
    "# def my_fun(n):\n",
    "    # return n%2==0\n",
    "ls=[11,19,15,12]\n",
    "# en =list(filter(my_fun, ls))\n",
    "en =list(filter(lambda n: n%2==0, ls))\n",
    "print(en)"
   ]
  },
  {
   "cell_type": "code",
   "execution_count": 9,
   "id": "9c0fdfae-f5b4-4fbd-8a1a-a12c8714d304",
   "metadata": {},
   "outputs": [
    {
     "name": "stdout",
     "output_type": "stream",
     "text": [
      "[('rohan', 16)]\n"
     ]
    }
   ],
   "source": [
    "ls=[(\"ram\",19),(\"shyam\",21),(\"rohan\",16),(\"sohan\",25)]\n",
    "en =list(filter(lambda t: t[1]%2==0, ls))\n",
    "print(en)"
   ]
  },
  {
   "cell_type": "markdown",
   "id": "1592065e-5029-450c-83ff-90d1dbd8d4f9",
   "metadata": {},
   "source": [
    "enumerate fun"
   ]
  },
  {
   "cell_type": "code",
   "execution_count": 11,
   "id": "3eabb466-e187-4d84-bf9d-89723bae763f",
   "metadata": {},
   "outputs": [
    {
     "name": "stdout",
     "output_type": "stream",
     "text": [
      "0 ('ram', 19)\n",
      "1 ('shyam', 21)\n",
      "2 ('rohan', 16)\n",
      "3 ('sohan', 25)\n"
     ]
    }
   ],
   "source": [
    "ls=[(\"ram\",19),(\"shyam\",21),(\"rohan\",16),(\"sohan\",25)]\n",
    "for idx,val in enumerate(ls):\n",
    "    print(idx,val)"
   ]
  },
  {
   "cell_type": "code",
   "execution_count": 16,
   "id": "868b5949-0557-44a9-b440-a19a49bcc5e6",
   "metadata": {},
   "outputs": [
    {
     "name": "stdout",
     "output_type": "stream",
     "text": [
      "shyam 19\n",
      "ram 21\n",
      "rohan 30\n",
      "sohan 24\n",
      "sita 16\n",
      "{'shyam': 19, 'ram': 21, 'rohan': 30, 'sohan': 24, 'sita': 16}\n"
     ]
    }
   ],
   "source": [
    "##Zip function\n",
    "name=[\"shyam\",\"ram\",\"rohan\",\"sohan\",\"sita\"]\n",
    "age=[19,21,30,24,16]\n",
    "data={}\n",
    "for nam,ag in zip(name,age):\n",
    "    print(nam,ag)\n",
    "    data[nam] = ag\n",
    "print(data)"
   ]
  },
  {
   "cell_type": "code",
   "execution_count": 23,
   "id": "3bf90286-e67a-4a59-9c04-59426f2e65ae",
   "metadata": {},
   "outputs": [
    {
     "name": "stdout",
     "output_type": "stream",
     "text": [
      "1 2 3 \n",
      "5 7 9 \n",
      "11 15 17 12 \n"
     ]
    }
   ],
   "source": [
    "##2d list\n",
    "\n",
    "mat= [[1,2,3],\n",
    "     [5,7,9],\n",
    "     [11,15,17,12]]\n",
    "# print(mat[0][0],mat[2][3])\n",
    "for ls in mat:\n",
    "    for i in ls:\n",
    "        print(i,end=\" \")\n",
    "    print()"
   ]
  },
  {
   "cell_type": "code",
   "execution_count": null,
   "id": "0977a934-b1fe-4dfb-91d4-52fdc343f310",
   "metadata": {},
   "outputs": [],
   "source": []
  }
 ],
 "metadata": {
  "kernelspec": {
   "display_name": "Python 3 (ipykernel)",
   "language": "python",
   "name": "python3"
  },
  "language_info": {
   "codemirror_mode": {
    "name": "ipython",
    "version": 3
   },
   "file_extension": ".py",
   "mimetype": "text/x-python",
   "name": "python",
   "nbconvert_exporter": "python",
   "pygments_lexer": "ipython3",
   "version": "3.11.5"
  }
 },
 "nbformat": 4,
 "nbformat_minor": 5
}
