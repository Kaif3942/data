{
 "cells": [
  {
   "cell_type": "markdown",
   "id": "10ee276f-6c0d-4fec-ab03-f67f35aaed55",
   "metadata": {},
   "source": [
    "l= [5,9,\"coding\", \"hello\",True, 6.5]\n",
    "count =0\n",
    "for i in l:\n",
    "    if(type(i)==str):\n",
    "        count+=1\n",
    "print(count)\n",
    "        \n"
   ]
  },
  {
   "cell_type": "code",
   "execution_count": 18,
   "id": "fe6f0d57-fecf-477f-8e95-749691164488",
   "metadata": {},
   "outputs": [
    {
     "name": "stdout",
     "output_type": "stream",
     "text": [
      "None\n",
      "{'banana': 10, 'apple': 15, 'orange': 20}\n",
      "45\n"
     ]
    }
   ],
   "source": [
    "fr= {\"banana\":10,\n",
    "    \"apple\":15,\n",
    "    \"orange\":20}\n",
    "print(fr.get(\"orang\"))\n",
    "# print(fr[\"orang\"],)\n",
    "print(fr)\n",
    "# total_fr=0\n",
    "# for i in fr:\n",
    "#     # print(i,fr[i])\n",
    "#     total_fr+= fr[i]\n",
    "# print(total_fr)"
   ]
  },
  {
   "cell_type": "code",
   "execution_count": 33,
   "id": "f02190e9-5c60-4da4-b250-3a191829e280",
   "metadata": {},
   "outputs": [
    {
     "name": "stdout",
     "output_type": "stream",
     "text": [
      "['banana', 'apple', 'orange']\n"
     ]
    }
   ],
   "source": [
    "fr= {\"banana\":10,\n",
    "    \"apple\":15,\n",
    "    \"orange\":20}\n",
    "key = list(fr.keys())\n",
    "print(key)"
   ]
  },
  {
   "cell_type": "code",
   "execution_count": 23,
   "id": "3e1cd055-ae27-4f53-8bd2-8ae5fd1b5033",
   "metadata": {},
   "outputs": [
    {
     "name": "stdout",
     "output_type": "stream",
     "text": [
      "45\n"
     ]
    }
   ],
   "source": [
    "fr= {\"banana\":10,\n",
    "    \"apple\":15,\n",
    "    \"orange\":20}\n",
    "value = list(fr.values())\n",
    "sum=0\n",
    "for i in value:\n",
    "    sum+=i\n",
    "print(sum)"
   ]
  },
  {
   "cell_type": "code",
   "execution_count": 65,
   "id": "36d36b52-c917-408e-bf4b-93dfeeb88bcc",
   "metadata": {},
   "outputs": [
    {
     "name": "stdout",
     "output_type": "stream",
     "text": [
      "[('banana', 10), ('apple', 15), ('orange', 20)]\n"
     ]
    }
   ],
   "source": [
    "fr= {\"banana\":10,\n",
    "    \"apple\":15,\n",
    "    \"orange\":20}\n",
    "\n",
    "items = list(fr.items())\n",
    "print(items)"
   ]
  },
  {
   "cell_type": "code",
   "execution_count": 73,
   "id": "fe13b784-e681-4546-895a-03223c36eddd",
   "metadata": {},
   "outputs": [
    {
     "name": "stdout",
     "output_type": "stream",
     "text": [
      "25\n",
      "25\n"
     ]
    }
   ],
   "source": [
    "data= {\n",
    "    \"fr\":{\"banana\":10,\n",
    "        \"apple\":15,\n",
    "        \"orange\":20},\n",
    "    \n",
    "    \"veg\":{\"potato\":15,\n",
    "            \"tomato\":25,\n",
    "            \"carrot\":30}\n",
    "}\n",
    "print(data.get(\"veg\").get(\"tomato\"))\n",
    "print(data[\"veg\"][\"tomato\"])\n",
    "\n",
    "\n",
    "    "
   ]
  },
  {
   "cell_type": "code",
   "execution_count": 32,
   "id": "d586f6b4-77f1-4448-81de-81de248bd21d",
   "metadata": {},
   "outputs": [
    {
     "name": "stdout",
     "output_type": "stream",
     "text": [
      "fr {'banana': 10, 'apple': 15, 'orange': 20}\n",
      "banana 10\n",
      "apple 15\n",
      "orange 20\n",
      "veg {'potato': 15, 'tomato': 25, 'carrot': 30}\n",
      "potato 15\n",
      "tomato 25\n",
      "carrot 30\n"
     ]
    }
   ],
   "source": [
    "for key,value in data.items():\n",
    "    print(key,value)\n",
    "    for child_k,child_v in data[key].items():\n",
    "        print(child_k,child_v)"
   ]
  },
  {
   "cell_type": "code",
   "execution_count": 74,
   "id": "dd4cb656-5ff9-4278-9452-ad48e8accc6e",
   "metadata": {},
   "outputs": [
    {
     "name": "stdout",
     "output_type": "stream",
     "text": [
      "{'fr': {'banana': 10, 'apple': 15, 'orange': 20}}\n"
     ]
    }
   ],
   "source": [
    "del data[\"veg\"]\n",
    "print(data)"
   ]
  },
  {
   "cell_type": "code",
   "execution_count": 75,
   "id": "1035dd55-925e-481c-add7-8d4ffecfb524",
   "metadata": {},
   "outputs": [
    {
     "name": "stdout",
     "output_type": "stream",
     "text": [
      "{'apple': 15, 'banana': 10, 'grapes': 5, 'orange': 20}\n"
     ]
    }
   ],
   "source": [
    "fr= {\"banana\":10,\n",
    "    \"apple\":15,\n",
    "    \"orange\":20}\n",
    "# adding new keys into dict\n",
    "fr[\"grapes\"]=5\n",
    "\n",
    "key = list(fr.keys())\n",
    "key.sort()\n",
    "# print(key)\n",
    "# creating new dict having sorted key\n",
    "new_fr={}\n",
    "for i in key:\n",
    "    new_fr[i]= fr[i]\n",
    "print(new_fr)"
   ]
  },
  {
   "cell_type": "code",
   "execution_count": 53,
   "id": "f38d689c-ecd0-4986-a0c8-b87a082fdfb1",
   "metadata": {},
   "outputs": [
    {
     "name": "stdout",
     "output_type": "stream",
     "text": [
      "<class 'collections.OrderedDict'> <class 'dict'>\n"
     ]
    }
   ],
   "source": [
    "from collections import OrderedDict\n",
    "fr= {\"banana\":10,\n",
    "    \"apple\":15,\n",
    "    \"orange\":20}\n",
    "orderdict= OrderedDict(sorted(fr.items()))\n",
    "print(type(orderdict), type(fr))"
   ]
  },
  {
   "cell_type": "code",
   "execution_count": 59,
   "id": "dd38fbfa-75ed-4176-9338-c3d5b1445ab0",
   "metadata": {},
   "outputs": [
    {
     "name": "stdout",
     "output_type": "stream",
     "text": [
      "[1, 2, 3, 4, 5, 9] [1, 3, 5, 9, 2, 4]\n"
     ]
    }
   ],
   "source": [
    "ls=[1,3,5,9,2,4]\n",
    "# ls.sort()\n",
    "nl =sorted(ls)\n",
    "print(nl,ls)"
   ]
  },
  {
   "cell_type": "code",
   "execution_count": 62,
   "id": "53fd67e9-9170-4e44-92e4-c4d0e7e8eafa",
   "metadata": {},
   "outputs": [
    {
     "name": "stdout",
     "output_type": "stream",
     "text": [
      "35\n"
     ]
    }
   ],
   "source": [
    "fr= {\"banana\":[10,15,20],\n",
    "    \"apple\":(15,50,35),\n",
    "    \"orange\":20}\n",
    "print(fr.get(\"apple\")[2])"
   ]
  },
  {
   "cell_type": "code",
   "execution_count": 3,
   "id": "966ae088-cf1c-435c-852f-50d712aa5adf",
   "metadata": {},
   "outputs": [
    {
     "name": "stdout",
     "output_type": "stream",
     "text": [
      "{8, 1, 4, 9}\n",
      "{1, (12, 15, 9), 8, 9, 11, (12, 15, 8), 19, 21}\n",
      "1\n",
      "(12, 15, 9)\n",
      "8\n",
      "9\n",
      "11\n",
      "(12, 15, 8)\n",
      "19\n",
      "21\n",
      "Present\n"
     ]
    }
   ],
   "source": [
    "##Sets\n",
    "s= {4,8,1,9,4,1}\n",
    "print(s)\n",
    "# add is use to insert single elem\n",
    "s.add((12,15,8))\n",
    "\n",
    "s.add((12,15,8))\n",
    "\n",
    "# update is use to insert multiple elem\n",
    "s.update((11,19,21))\n",
    "# remove elem from set if present else give error\n",
    "s.remove(12)\n",
    "#discard elem from set but does'nt give error \n",
    "s.discard(4)\n",
    "print(s)\n",
    "\n",
    "# for loop in set\n",
    "for i in s:\n",
    "    print(i)\n",
    "\n",
    "#check if elem is present\n",
    "if(9 in s):\n",
    "    print(\"Present\")\n",
    "else:\n",
    "    print(\"Not present\")"
   ]
  },
  {
   "cell_type": "code",
   "execution_count": 83,
   "id": "9e8b9f4c-5700-4d26-a49c-145aea1891bb",
   "metadata": {},
   "outputs": [
    {
     "name": "stdout",
     "output_type": "stream",
     "text": [
      "[7, 1]\n"
     ]
    }
   ],
   "source": [
    "ls= [5,7,11,1,5,11]\n",
    "nl=[]\n",
    "for i in ls:\n",
    "    if(ls.count(i)==1):\n",
    "        nl.append(i)\n",
    "print(nl)"
   ]
  },
  {
   "cell_type": "code",
   "execution_count": 5,
   "id": "5a00c453-bb1e-4646-8047-0a9cbd8db714",
   "metadata": {},
   "outputs": [
    {
     "name": "stdout",
     "output_type": "stream",
     "text": [
      "{1, 7}\n"
     ]
    }
   ],
   "source": [
    "##unique elem in ls\n",
    "ls= [5,7,11,1,5,11]\n",
    "s=set()\n",
    "for i in ls:\n",
    "    if(i in s):\n",
    "        s.remove(i)\n",
    "    else:\n",
    "        s.add(i)\n",
    "print(s)"
   ]
  },
  {
   "cell_type": "code",
   "execution_count": 105,
   "id": "e2bd777c-1ced-4271-b629-87d0f5eb57ed",
   "metadata": {},
   "outputs": [
    {
     "name": "stdout",
     "output_type": "stream",
     "text": [
      "[5, 11]\n"
     ]
    }
   ],
   "source": [
    "ls= [5,7,11,1,5,11]\n",
    "s=set()\n",
    "nl =[]\n",
    "for i in ls:\n",
    "    if(i in s):\n",
    "        nl.append(i)\n",
    "    else:\n",
    "        s.add(i)\n",
    "print(nl)"
   ]
  },
  {
   "cell_type": "code",
   "execution_count": 6,
   "id": "1c0a3ce0-c0ce-4edb-a4b8-737f98d5ec01",
   "metadata": {},
   "outputs": [
    {
     "name": "stdout",
     "output_type": "stream",
     "text": [
      "{'carrot', 'tomato'} {'carrot', 'tomato'}\n",
      "{'carrot', 'apple', 'bringle', 'tomato', 'banana'}\n",
      "{'banana', 'apple', 'bringle'}\n",
      "{'banana', 'apple'}\n",
      "{'bringle'}\n"
     ]
    }
   ],
   "source": [
    "fr=[\"banana\",\"carrot\",\"tomato\",\"apple\"]\n",
    "veg=[\"carrot\",\"tomato\",\"bringle\"]\n",
    "s1= set(fr)\n",
    "s2 = set(veg)\n",
    "print(s1&s2, s1.intersection(s2)) #intersection of two set\n",
    "print(s1|s2) # union of two set\n",
    "print(s1^s2) #exclude item that present in both\n",
    "print(s1-s2) #subtraction of s2 from s1\n",
    "print(s2-s1)"
   ]
  },
  {
   "cell_type": "code",
   "execution_count": null,
   "id": "604a0a78-2d8c-4e23-a6c6-3ef6731fb41f",
   "metadata": {},
   "outputs": [],
   "source": []
  }
 ],
 "metadata": {
  "kernelspec": {
   "display_name": "Python 3 (ipykernel)",
   "language": "python",
   "name": "python3"
  },
  "language_info": {
   "codemirror_mode": {
    "name": "ipython",
    "version": 3
   },
   "file_extension": ".py",
   "mimetype": "text/x-python",
   "name": "python",
   "nbconvert_exporter": "python",
   "pygments_lexer": "ipython3",
   "version": "3.11.5"
  }
 },
 "nbformat": 4,
 "nbformat_minor": 5
}
